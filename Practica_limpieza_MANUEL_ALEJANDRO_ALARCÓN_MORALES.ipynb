{
  "cells": [
    {
      "cell_type": "markdown",
      "metadata": {
        "id": "view-in-github",
        "colab_type": "text"
      },
      "source": [
        "<a href=\"https://colab.research.google.com/github/elrrascabuches/Talleres-IA-aplicada-Manuel-Alarcon/blob/main/Practica_limpieza_MANUEL_ALEJANDRO_ALARC%C3%93N_MORALES.ipynb\" target=\"_parent\"><img src=\"https://colab.research.google.com/assets/colab-badge.svg\" alt=\"Open In Colab\"/></a>"
      ]
    },
    {
      "cell_type": "markdown",
      "source": [
        "# **Inteligencia Artificial con Aplicaciones en Economía I**\n",
        "\n",
        "- 👩‍🏫 **Profesora:** [Lina María Castro](https://www.linkedin.com/in/lina-maria-castro)  \n",
        "- 📧 **Email:** [lmcastroco@gmail.com](mailto:lmcastroco@gmail.com)  \n",
        "- 🎓 **Universidad:** Universidad Externado de Colombia - Facultad de Economía"
      ],
      "metadata": {
        "id": "UxY55o_PQ7jE"
      }
    },
    {
      "cell_type": "markdown",
      "source": [
        "# **Parte práctica parcial: Preparación y limpieza de datos**🧹"
      ],
      "metadata": {
        "id": "fgMCFLbQBIu0"
      }
    },
    {
      "cell_type": "markdown",
      "source": [
        "**IMPORTANTE**: Guarda una copia de este notebook en tu Google Drive o computador."
      ],
      "metadata": {
        "id": "0dQjQRRI-Jwh"
      }
    },
    {
      "cell_type": "markdown",
      "source": [
        "**Nombre estudiante:** MANUEL ALEJANDRO ALARCÓN MORALES\n",
        "\n"
      ],
      "metadata": {
        "id": "NyfFoG84-DmF"
      }
    },
    {
      "cell_type": "markdown",
      "source": [
        "**Forma de entrega**\n",
        "\n",
        "Jupyter Notebook publicado en su cuenta de Github con el nombre “Practica_limpieza_nombre_apellido_estudiante.ipynb”. Máximo a las 9 a.m., debes enviar link del notebook al correo lina.castro6@uexternado.edu.co, de lo contrario, no será tenido en cuenta.\n",
        "\n",
        "**Instrucciones Generales**\n",
        "\n",
        "- Puedes utilizar tus apuntes y notebooks y entrar al repositorio del curso. Sin embargo, **NO puedes utilizar IA para desarrollar tus respuestas**. **En caso de descubrir que estás usando IA** para el desarrollo de los ejercicios, **tu nota** de este segundo parcial **será cero**.\n",
        "- Completa el código en las celdas marcadas con `### TU CÓDIGO AQUÍ ###`. Puedes añadir más celdas si lo requieres.\n",
        "- Después de cada punto, ejecuta la celda de `assert` que se proporciona. Si no aparece ningún error, ¡tu respuesta es correcta!\n",
        "- No modifiques las celdas de `assert` ni las celdas de Markdown."
      ],
      "metadata": {
        "id": "KcbzsUiz025j"
      }
    },
    {
      "cell_type": "markdown",
      "metadata": {
        "id": "002f12a4"
      },
      "source": [
        "**Objetivos de Aprendizaje**\n",
        "\n",
        "1. **Aplicar técnicas de importación y consolidación de múltiples fuentes de datos** utilizando la librería `pandas`.\n",
        "2.  **Ejecutar un proceso completo de limpieza de datos**, incluyendo el manejo de valores nulos, duplicados y la estandarización de tipos de datos.\n",
        "3.  **Preparar un conjunto de datos real (GEIH del DANE)** para un análisis económico, sentando las bases para futuros modelos de machine learning."
      ]
    },
    {
      "cell_type": "markdown",
      "source": [
        "# Ejercicio 1: Importar y unir datos (20%)"
      ],
      "metadata": {
        "id": "kcMQs_MlILnO"
      }
    },
    {
      "cell_type": "markdown",
      "source": [
        "El DANE publica los microdatos de la GEIH mensualmente. Tu primera tarea es cargar los datos de los primeros seis meses de 2025 y armar una sola base."
      ],
      "metadata": {
        "id": "beUGc16pTUmd"
      }
    },
    {
      "cell_type": "markdown",
      "source": [
        "**Los archivos necesarios los encuentras en el repositorio del curso, carpeta \"datasets\", carpeta \"geih_2025\".**"
      ],
      "metadata": {
        "id": "VfgbpHxErNbB"
      }
    },
    {
      "cell_type": "markdown",
      "source": [
        "1. Usa un ciclo \"for\" para abrir los archivos CSV, ten en cuenta que estas bases usan como separador \";\" y encoding='latin1'. La variable 'DPTO' y 'RAMA4D_R4' debes cargarlas como string."
      ],
      "metadata": {
        "id": "uFLrypnkZinJ"
      }
    },
    {
      "cell_type": "code",
      "source": [
        "### TU CÓDIGO AQUÍ ###\n",
        "import numpy as np\n",
        "import pandas as pd\n",
        "import os\n",
        "from google.colab import drive, files\n",
        "drive.mount('/content/drive')\n",
        "path = '/content/drive/MyDrive/geih_2025'\n",
        "os.chdir(path)\n",
        "os.listdir('/content/drive/MyDrive/geih_2025')\n",
        "\n"
      ],
      "metadata": {
        "id": "wF4NBJRTI6Vf",
        "outputId": "9347433e-ba75-4238-bade-aa4ee1283b68",
        "colab": {
          "base_uri": "https://localhost:8080/"
        }
      },
      "execution_count": 1,
      "outputs": [
        {
          "output_type": "stream",
          "name": "stdout",
          "text": [
            "Mounted at /content/drive\n"
          ]
        },
        {
          "output_type": "execute_result",
          "data": {
            "text/plain": [
              "['2025-01-14 DIVIPOLA.xlsx',\n",
              " '2025-01-14 Correlativa CIIU Rev4.xlsx',\n",
              " 'df_feb.csv',\n",
              " 'df_abr.csv',\n",
              " 'df_may.csv',\n",
              " 'df_mar.csv',\n",
              " 'df_ene.csv',\n",
              " 'df_jun.csv']"
            ]
          },
          "metadata": {},
          "execution_count": 1
        }
      ]
    },
    {
      "cell_type": "code",
      "source": [
        "data_CSV=['df_feb.csv',\n",
        " 'df_abr.csv',\n",
        " 'df_mar.csv',\n",
        " 'df_may.csv',\n",
        " 'df_jun.csv',\n",
        " 'df_ene.csv']\n",
        "lista_dfs = []\n",
        "for i in data_CSV:\n",
        "  try:\n",
        "      kl=pd.read_csv(i, sep=\";\", decimal='.', encoding ='latin1', converters={'DPTO':str, 'RAMA4D_R4':str})\n",
        "      lista_dfs.append(kl)\n",
        "  except Exception as e:\n",
        "     print(f\"Error leyendo {i}: {e}\")\n"
      ],
      "metadata": {
        "id": "WF_dwKTT_S7V",
        "outputId": "34fe44b7-67ec-47af-f3cb-229b889ad159",
        "colab": {
          "base_uri": "https://localhost:8080/"
        }
      },
      "execution_count": 2,
      "outputs": [
        {
          "output_type": "stream",
          "name": "stderr",
          "text": [
            "/tmp/ipython-input-4134372459.py:10: DtypeWarning: Columns (71,132,176,188,190,201) have mixed types. Specify dtype option on import or set low_memory=False.\n",
            "  kl=pd.read_csv(i, sep=\";\", decimal='.', encoding ='latin1', converters={'DPTO':str, 'RAMA4D_R4':str})\n",
            "/tmp/ipython-input-4134372459.py:10: DtypeWarning: Columns (71,132,176,188,190,201) have mixed types. Specify dtype option on import or set low_memory=False.\n",
            "  kl=pd.read_csv(i, sep=\";\", decimal='.', encoding ='latin1', converters={'DPTO':str, 'RAMA4D_R4':str})\n",
            "/tmp/ipython-input-4134372459.py:10: DtypeWarning: Columns (71,132,176,185,188,190,201) have mixed types. Specify dtype option on import or set low_memory=False.\n",
            "  kl=pd.read_csv(i, sep=\";\", decimal='.', encoding ='latin1', converters={'DPTO':str, 'RAMA4D_R4':str})\n",
            "/tmp/ipython-input-4134372459.py:10: DtypeWarning: Columns (71,132,176,188,190,201) have mixed types. Specify dtype option on import or set low_memory=False.\n",
            "  kl=pd.read_csv(i, sep=\";\", decimal='.', encoding ='latin1', converters={'DPTO':str, 'RAMA4D_R4':str})\n",
            "/tmp/ipython-input-4134372459.py:10: DtypeWarning: Columns (71,132,176,188,190,201) have mixed types. Specify dtype option on import or set low_memory=False.\n",
            "  kl=pd.read_csv(i, sep=\";\", decimal='.', encoding ='latin1', converters={'DPTO':str, 'RAMA4D_R4':str})\n",
            "/tmp/ipython-input-4134372459.py:10: DtypeWarning: Columns (71,132,176,185,190,201) have mixed types. Specify dtype option on import or set low_memory=False.\n",
            "  kl=pd.read_csv(i, sep=\";\", decimal='.', encoding ='latin1', converters={'DPTO':str, 'RAMA4D_R4':str})\n"
          ]
        }
      ]
    },
    {
      "cell_type": "markdown",
      "source": [
        "2. Une todos los dataframes para obtener una base de la GEIH con toda la información de enero a junio de 2025. El nuevo dataframe debe llamarse `df_geih`"
      ],
      "metadata": {
        "id": "V4mnzdvxZknq"
      }
    },
    {
      "cell_type": "code",
      "source": [
        "df_geih = pd.concat(lista_dfs, axis = 0, ignore_index=True)\n"
      ],
      "metadata": {
        "id": "5zqqRiQ7IJdG"
      },
      "execution_count": 3,
      "outputs": []
    },
    {
      "cell_type": "markdown",
      "source": [
        "3. Reinicia el índice de `df_geih`. Asegúrate de que el índice antiguo no se añada como una nueva columna."
      ],
      "metadata": {
        "id": "2KfW20d-ZrNV"
      }
    },
    {
      "cell_type": "code",
      "source": [
        "### TU CÓDIGO AQUÍ ###\n",
        "df_geih.reset_index\n",
        "df_geih.columns"
      ],
      "metadata": {
        "id": "wqFvg5vCZtyk",
        "outputId": "cb220bc9-4449-4ae2-f74c-54b7c5d0faca",
        "colab": {
          "base_uri": "https://localhost:8080/"
        }
      },
      "execution_count": 4,
      "outputs": [
        {
          "output_type": "execute_result",
          "data": {
            "text/plain": [
              "Index(['PERIODO', 'MES', 'PER', 'DIRECTORIO', 'SECUENCIA_P', 'ORDEN', 'HOGAR',\n",
              "       'REGIS', 'AREA', 'CLASE',\n",
              "       ...\n",
              "       'P1881', 'P1881S1', 'P1882', 'P7240', 'P7240S1', 'OCI', 'INGLABO',\n",
              "       'RAMA2D_R4', 'RAMA4D_R4', 'OFICIO_C8'],\n",
              "      dtype='object', length=245)"
            ]
          },
          "metadata": {},
          "execution_count": 4
        }
      ]
    },
    {
      "cell_type": "code",
      "source": [
        "# Celda de verificación (no modificar)\n",
        "assert df_geih.shape[0] == 408423, f\"Error en las filas. Se esperaban 408423, pero se encontraron {df_geih.shape[0]}.\"\n",
        "assert df_geih.shape[1] == 245, f\"Error en las columnas. Se esperaban 245, pero se encontraron {df_geih.shape[1]}.\"\n",
        "print(\"¡Las dimensiones del DataFrame son correctas! ✅\")\n",
        "assert 'index' not in df_geih.columns, \"El índice antiguo no debe ser una columna.\"\n",
        "assert df_geih.index.is_unique, \"El índice debe ser único después de reiniciarlo.\"\n",
        "print(f\"¡Punto 1 completado con éxito! ✅ El DataFrame consolidado tiene {df_geih.shape[0]} filas y {df_geih.shape[1]} columnas.\")"
      ],
      "metadata": {
        "id": "4SKESZ9HI9Sm",
        "outputId": "55e383ea-d81a-4651-83d6-15510420c072",
        "colab": {
          "base_uri": "https://localhost:8080/"
        }
      },
      "execution_count": 5,
      "outputs": [
        {
          "output_type": "stream",
          "name": "stdout",
          "text": [
            "¡Las dimensiones del DataFrame son correctas! ✅\n",
            "¡Punto 1 completado con éxito! ✅ El DataFrame consolidado tiene 408423 filas y 245 columnas.\n"
          ]
        }
      ]
    },
    {
      "cell_type": "markdown",
      "source": [
        "# Ejercicio 2:  Seleccionar y renombrar columnas (5%)"
      ],
      "metadata": {
        "id": "vohgsAt-JIUY"
      }
    },
    {
      "cell_type": "markdown",
      "source": [
        "La GEIH contiene cientos de variables. Para nuestro análisis del mercado laboral, nos enfocaremos en un subconjunto.\n",
        "\n",
        "Adicionalmente, los nombres de las columnas en la GEIH son códigos. Para hacer el análisis más intuitivo, vamos a renombrarlas."
      ],
      "metadata": {
        "id": "d_nfXxqyJKXK"
      }
    },
    {
      "cell_type": "markdown",
      "source": [
        "1. Crea un nuevo DataFrame llamado `df_empleo` que contenga únicamente las columnas que están en la lista `columnas_interes`."
      ],
      "metadata": {
        "id": "kJKqoBs6pwp4"
      }
    },
    {
      "cell_type": "code",
      "source": [
        "columnas_interes = ['DIRECTORIO', 'SECUENCIA_P', 'ORDEN', 'MES', 'CLASE', 'DPTO', 'FEX_C18', 'PT', 'P3271', 'P6040', 'P6080', 'P3043', 'OCI', 'P6430', 'RAMA4D_R4', 'INGLABO']"
      ],
      "metadata": {
        "id": "1Dfq5ExPZ1e-"
      },
      "execution_count": 6,
      "outputs": []
    },
    {
      "cell_type": "code",
      "source": [
        "### TU CÓDIGO AQUÍ ###\n",
        "df_empleo = df_geih[columnas_interes].copy()\n"
      ],
      "metadata": {
        "id": "75nC2y_4JTnR"
      },
      "execution_count": 7,
      "outputs": []
    },
    {
      "cell_type": "code",
      "source": [
        "# Celda de verificación (no modificar)\n",
        "assert len(df_empleo.columns) == 16, \"El número de columnas es incorrecto.\"\n",
        "assert all(col in df_empleo.columns for col in columnas_interes), \"Faltan columnas o los nombres son incorrectos.\"\n",
        "print(\"¡Selección de columnas completada con éxito! ✅\")\n",
        "print(\"Dimensiones del nuevo DataFrame:\", df_empleo.shape)"
      ],
      "metadata": {
        "id": "vp0lD3F6JXRR",
        "colab": {
          "base_uri": "https://localhost:8080/"
        },
        "outputId": "7cc4f7a6-a01d-44e2-864c-a0f57c7878dc"
      },
      "execution_count": 8,
      "outputs": [
        {
          "output_type": "stream",
          "name": "stdout",
          "text": [
            "¡Selección de columnas completada con éxito! ✅\n",
            "Dimensiones del nuevo DataFrame: (408423, 16)\n"
          ]
        }
      ]
    },
    {
      "cell_type": "markdown",
      "source": [
        "2. Renombra las columnas del DataFrame `df_empleo` utilizando el diccionario `mapa_nombres`."
      ],
      "metadata": {
        "id": "Re7IRRu7pzyM"
      }
    },
    {
      "cell_type": "code",
      "source": [
        "mapa_nombres = {\n",
        "'DIRECTORIO': 'id_vivienda',\n",
        "'SECUENCIA_P': 'id_hogar',\n",
        "'ORDEN': 'id_persona',\n",
        "'MES': 'mes',\n",
        "'CLASE': 'clase',\n",
        "'DPTO': 'departamento',\n",
        "'FEX_C18': 'factor_expansion',\n",
        "'PT': 'poblacion_total',\n",
        "'P3271': 'sexo',\n",
        "'P6040': 'edad',\n",
        "'P6080': 'grupo_etnico',\n",
        "'P3043': 'nivel_educativo',\n",
        "'OCI': 'ocupados',\n",
        "'P6430': 'categoria_ocupacional',\n",
        "'RAMA4D_R4': 'cod_ciiu',\n",
        "'INGLABO': 'ingreso_laboral'}"
      ],
      "metadata": {
        "id": "Jrc9ps_eaonH"
      },
      "execution_count": 9,
      "outputs": []
    },
    {
      "cell_type": "code",
      "source": [
        "### TU CÓDIGO AQUÍ ###\n",
        "df_empleo = df_empleo.rename(columns=mapa_nombres)\n"
      ],
      "metadata": {
        "id": "zwFmLQHdbCIK"
      },
      "execution_count": 10,
      "outputs": []
    },
    {
      "cell_type": "code",
      "source": [
        "# Celda de verificación (no modificar)\n",
        "nombres_nuevos_esperados = list(mapa_nombres.values())\n",
        "condicion_exitosa = all(col in df_empleo.columns for col in nombres_nuevos_esperados)\n",
        "assert condicion_exitosa, \"No todas las columnas esperadas se encuentran en el DataFrame. Revisa el diccionario o la operación de renombrado.\"\n",
        "print(\"¡Verificación exitosa! Todas las columnas fueron renombradas correctamente. ✅\")\n",
        "print(\"¡Punto 2 completado con éxito! ✅\")"
      ],
      "metadata": {
        "id": "y00VD_7vJnZp",
        "colab": {
          "base_uri": "https://localhost:8080/"
        },
        "outputId": "4b23ff79-578f-4ff7-fbc6-8da850210979"
      },
      "execution_count": 11,
      "outputs": [
        {
          "output_type": "stream",
          "name": "stdout",
          "text": [
            "¡Verificación exitosa! Todas las columnas fueron renombradas correctamente. ✅\n",
            "¡Punto 2 completado con éxito! ✅\n"
          ]
        }
      ]
    },
    {
      "cell_type": "markdown",
      "source": [
        "# Ejercicio 3: Revisión de duplicados (5%)"
      ],
      "metadata": {
        "id": "mDK3ntrqJpGb"
      }
    },
    {
      "cell_type": "markdown",
      "source": [
        "Un paso crucial en la limpieza es asegurar que no haya observaciones duplicadas que puedan sesgar nuestro análisis."
      ],
      "metadata": {
        "id": "tkSSPWkKJrOL"
      }
    },
    {
      "cell_type": "markdown",
      "source": [
        "1. Verifica si hay filas duplicadas en `df_empleo`."
      ],
      "metadata": {
        "id": "rGdi4aqTr_pF"
      }
    },
    {
      "cell_type": "code",
      "source": [
        "### TU CÓDIGO AQUÍ ###\n",
        "if df_empleo.duplicated().sum() >0:\n",
        "  print(\"hay filas repetidas\")\n",
        "else:\n",
        "  print( \"no hay filas repetidas\")"
      ],
      "metadata": {
        "id": "30Rj_lGmJwBq",
        "colab": {
          "base_uri": "https://localhost:8080/"
        },
        "outputId": "15a8d310-2ce4-4a3a-ef56-10d2b9a7de5a"
      },
      "execution_count": 12,
      "outputs": [
        {
          "output_type": "stream",
          "name": "stdout",
          "text": [
            "no hay filas repetidas\n"
          ]
        }
      ]
    },
    {
      "cell_type": "markdown",
      "source": [
        "2. Cuenta cuántas filas duplicadas existen."
      ],
      "metadata": {
        "id": "z0pbTsshsD7e"
      }
    },
    {
      "cell_type": "code",
      "source": [
        "### TU CÓDIGO AQUÍ ###\n",
        "df_empleo.duplicated().sum()"
      ],
      "metadata": {
        "id": "O4nEAlp-sJ9b",
        "colab": {
          "base_uri": "https://localhost:8080/"
        },
        "outputId": "7b85c0f7-a32e-47e3-b9ec-c6f49a8566c1"
      },
      "execution_count": 13,
      "outputs": [
        {
          "output_type": "execute_result",
          "data": {
            "text/plain": [
              "np.int64(0)"
            ]
          },
          "metadata": {},
          "execution_count": 13
        }
      ]
    },
    {
      "cell_type": "markdown",
      "source": [
        "3. Elimina las filas duplicadas, si las hay."
      ],
      "metadata": {
        "id": "e4Nq586FsGdL"
      }
    },
    {
      "cell_type": "code",
      "source": [
        "### TU CÓDIGO AQUÍ ###\n",
        "df_empleo.drop_duplicates(keep='first', inplace=True)\n",
        "print(f\"no hay que eliminar filas porque no hay duplicadas, pero si las hubiera se debería usar:df_empleo.drop_duplicates(keep='first', inplace=True)\")"
      ],
      "metadata": {
        "id": "U5JVNZIcsKhV",
        "colab": {
          "base_uri": "https://localhost:8080/"
        },
        "outputId": "3f3cc065-1775-466d-aff1-7610cd85160a"
      },
      "execution_count": 14,
      "outputs": [
        {
          "output_type": "stream",
          "name": "stdout",
          "text": [
            "no hay que eliminar filas porque no hay duplicadas, pero si las hubiera se debería usar:df_empleo.drop_duplicates(keep='first', inplace=True)\n"
          ]
        }
      ]
    },
    {
      "cell_type": "markdown",
      "source": [
        "4. Verifica si hay filas duplicadas específicamente en las columnas 'id_vivienda', 'id_hogar', 'id_persona'."
      ],
      "metadata": {
        "id": "rYgKw_2mqLMY"
      }
    },
    {
      "cell_type": "code",
      "source": [
        "### TU CÓDIGO AQUÍ ###\n",
        "#df_empleo[df_empleo.duplicated(subset=['id_vivienda', 'id_hogar', 'id_persona'], keep=False)]\n",
        "df_empleo.duplicated(subset=['id_vivienda', 'id_hogar', 'id_persona']).sum()\n"
      ],
      "metadata": {
        "id": "YLE3lJfwsLar",
        "colab": {
          "base_uri": "https://localhost:8080/"
        },
        "outputId": "e859684c-0409-40dc-d9f5-8d549bcc1a01"
      },
      "execution_count": 15,
      "outputs": [
        {
          "output_type": "execute_result",
          "data": {
            "text/plain": [
              "np.int64(0)"
            ]
          },
          "metadata": {},
          "execution_count": 15
        }
      ]
    },
    {
      "cell_type": "code",
      "source": [
        "# Celda de verificación (no modificar)\n",
        "assert df_empleo.duplicated().sum() == 0, \"Aún existen filas duplicadas.\"\n",
        "print(\"¡Punto 3 completado con éxito! ✅\")"
      ],
      "metadata": {
        "id": "FDOUnz2tJz6C",
        "colab": {
          "base_uri": "https://localhost:8080/"
        },
        "outputId": "cb40f15b-e9a4-46d6-9c35-a31e20962547"
      },
      "execution_count": 16,
      "outputs": [
        {
          "output_type": "stream",
          "name": "stdout",
          "text": [
            "¡Punto 3 completado con éxito! ✅\n"
          ]
        }
      ]
    },
    {
      "cell_type": "markdown",
      "source": [
        "# Ejercicio 4: Valores faltantes (5%)"
      ],
      "metadata": {
        "id": "qKsEeYQ1J75s"
      }
    },
    {
      "cell_type": "markdown",
      "source": [
        "Los datos del mundo real raramente están completos. Aquí, trataremos los valores faltantes en la columna de ingresos.\n"
      ],
      "metadata": {
        "id": "-LRknAhpJ9vb"
      }
    },
    {
      "cell_type": "markdown",
      "source": [
        "1. Calcula el número de valores nulos (`NaN`) en la columna `ingreso_laboral` **antes** de cualquier modificación."
      ],
      "metadata": {
        "id": "ZbnH8-NtsXIK"
      }
    },
    {
      "cell_type": "code",
      "source": [
        "### TU CÓDIGO AQUÍ ###\n",
        "df_empleo['ingreso_laboral'].isna().sum()\n"
      ],
      "metadata": {
        "id": "cPwJh0CpKIv9",
        "colab": {
          "base_uri": "https://localhost:8080/"
        },
        "outputId": "459d4a0f-c471-41fc-abf4-2074289143b9"
      },
      "execution_count": 17,
      "outputs": [
        {
          "output_type": "execute_result",
          "data": {
            "text/plain": [
              "np.int64(236576)"
            ]
          },
          "metadata": {},
          "execution_count": 17
        }
      ]
    },
    {
      "cell_type": "markdown",
      "source": [
        "2. En la GEIH, un ingreso faltante a menudo significa que la persona no reportó ingresos o no aplica (ej. no trabaja). Una estrategia común es imputar estos valores con `0`. Rellena los valores `NaN` en la columna `ingreso_laboral` con `0`."
      ],
      "metadata": {
        "id": "pdR4mVkRsa8x"
      }
    },
    {
      "cell_type": "code",
      "source": [
        "### TU CÓDIGO AQUÍ ###\n",
        "df_empleo['ingreso_laboral'] = df_empleo['ingreso_laboral'].fillna(0)"
      ],
      "metadata": {
        "id": "ZPa-0393skWB"
      },
      "execution_count": 18,
      "outputs": []
    },
    {
      "cell_type": "code",
      "source": [
        "# Celda de verificación (no modificar)\n",
        "assert df_empleo['ingreso_laboral'].isnull().sum() == 0, \"La columna 'ingreso_laboral' todavía tiene valores nulos.\"\n",
        "print(\"¡Punto 4 completado con éxito! ✅\")"
      ],
      "metadata": {
        "id": "PvmNifUxKKCz",
        "colab": {
          "base_uri": "https://localhost:8080/"
        },
        "outputId": "5ca351d8-6c32-41be-c137-1b92e2c286a4"
      },
      "execution_count": 19,
      "outputs": [
        {
          "output_type": "stream",
          "name": "stdout",
          "text": [
            "¡Punto 4 completado con éxito! ✅\n"
          ]
        }
      ]
    },
    {
      "cell_type": "markdown",
      "source": [
        "# Ejercicio 5: Decodificar variables (20%)\n",
        "\n"
      ],
      "metadata": {
        "id": "n1H51YH_KgH0"
      }
    },
    {
      "cell_type": "markdown",
      "source": [
        "Las variables categóricas a menudo necesitan ser \"traducidas\" para hacerlas más entendibles para el análisis."
      ],
      "metadata": {
        "id": "Bn2WHfpsKiHU"
      }
    },
    {
      "cell_type": "markdown",
      "source": [
        "1. Usa los siguientes diccionarios para reemplazar los códigos numéricos por etiquetas de texto en las siguientes columnas: 'clase', 'sexo', 'grupo_etnico', 'nivel_educativo' y 'categoria_ocupacional'. Muestra los conteos de las nuevas categorías usando `.value_counts()` para verificar el cambio en cada una de las columnas."
      ],
      "metadata": {
        "id": "Y4ABVfkitFmV"
      }
    },
    {
      "cell_type": "code",
      "source": [
        "dic_clase = {1: 'Cabeceras', 2: 'Centros poblados y rural disperso'}\n",
        "dic_sexo = {1: 'Hombre', 2: 'Mujer'}\n",
        "dic_etnico = {1: 'Indígena', 2: 'Gitano (Rom)', 3: 'Raizal del archipiélago', 4: 'Palenquero',\n",
        "              5: 'Negro, mulato (afrodescendiente)', 6: 'Ninguno de los anteriores'}\n",
        "dic_nivel_educativo = {1: 'Ninguno', 2: 'Educación media', 3: 'Educación media',\n",
        "                       4: 'Educación media', 5: 'Técnica profesional', 6: 'Tecnológica',\n",
        "                       7: 'Universitaria', 8: 'Especialización', 9: 'Maestría',\n",
        "                       10: 'Doctorado', 99: 'No sabe, no informa'}\n",
        "dic_cat_ocu = {1: 'Asalariado', 2: 'Asalariado', 3: 'Asalariado',\n",
        "               8: 'Asalariado', 4: 'Independiente', 5: 'Independiente',\n",
        "               9: 'Independiente', 6: 'Trabajador sin remuneración',\n",
        "               7: 'Trabajador sin remuneración'}"
      ],
      "metadata": {
        "id": "NCmxDLKZtLis"
      },
      "execution_count": 20,
      "outputs": []
    },
    {
      "cell_type": "code",
      "source": [
        "### TU CÓDIGO AQUÍ ###\n",
        "diccionarios= [dic_clase, dic_sexo, dic_etnico , dic_nivel_educativo,dic_cat_ocu]\n",
        "columnitas=['clase', 'sexo', 'grupo_etnico', 'nivel_educativo','categoria_ocupacional']\n",
        "for columna, diccionario in zip(columnitas, diccionarios):\n",
        "    # Usamos el método .map() dentro del bucle\n",
        "    df_empleo[columna] = df_empleo[columna].map(diccionario)\n",
        "    print(f\"Columna '{columna}' modificada correctamente.\")"
      ],
      "metadata": {
        "id": "TrHuaJBFKtRG",
        "colab": {
          "base_uri": "https://localhost:8080/"
        },
        "outputId": "5ef10ca4-b1e1-41e6-b77b-7d9f8295d5a1"
      },
      "execution_count": 21,
      "outputs": [
        {
          "output_type": "stream",
          "name": "stdout",
          "text": [
            "Columna 'clase' modificada correctamente.\n",
            "Columna 'sexo' modificada correctamente.\n",
            "Columna 'grupo_etnico' modificada correctamente.\n",
            "Columna 'nivel_educativo' modificada correctamente.\n",
            "Columna 'categoria_ocupacional' modificada correctamente.\n"
          ]
        }
      ]
    },
    {
      "cell_type": "code",
      "source": [
        "# Celda de verificación (no modificar)\n",
        "mapeos_a_verificar = {\n",
        "    'clase': dic_clase,\n",
        "    'sexo': dic_sexo,\n",
        "    'grupo_etnico': dic_etnico,\n",
        "    'nivel_educativo': dic_nivel_educativo,\n",
        "    'categoria_ocupacional': dic_cat_ocu\n",
        "}\n",
        "for columna, diccionario in mapeos_a_verificar.items():\n",
        "    es_numerica = pd.api.types.is_numeric_dtype(df_empleo[columna])\n",
        "    assert not es_numerica, f\"La columna '{columna}' todavía tiene un tipo de dato numérico. El reemplazo falló.\"\n",
        "    valor_texto_ejemplo = list(diccionario.values())[0]\n",
        "    categorias_unicas = df_empleo[columna].unique()\n",
        "    assert valor_texto_ejemplo in categorias_unicas, f\"No se encontró el valor '{valor_texto_ejemplo}' en la columna '{columna}'.\"\n",
        "    valor_numerico_ejemplo = list(diccionario.keys())[0]\n",
        "    assert valor_numerico_ejemplo not in categorias_unicas, f\"El código numérico '{valor_numerico_ejemplo}' todavía existe en la columna '{columna}'.\"\n",
        "print(\"¡Verificación completada con éxito! ✅ Todas las columnas categóricas fueron transformadas correctamente.\")"
      ],
      "metadata": {
        "id": "5-AKpA0ECgDV",
        "colab": {
          "base_uri": "https://localhost:8080/"
        },
        "outputId": "8275c6c1-1af2-4860-f4b4-aeabb6a7518a"
      },
      "execution_count": 22,
      "outputs": [
        {
          "output_type": "stream",
          "name": "stdout",
          "text": [
            "¡Verificación completada con éxito! ✅ Todas las columnas categóricas fueron transformadas correctamente.\n"
          ]
        }
      ]
    },
    {
      "cell_type": "markdown",
      "source": [
        "2. Utiliza el archivo \"2025-01-14 Correlativa CIIU Rev4.xlsx\", hoja 'CIIU 2022', para agregar al df_empleo las descripciones de los códigos CIIU a 4 dígitos. En df_empleo la columna con los códigos CIIU se llama 'cod_ciiu'. Si se agregan nuevas columnas al dataframe, distintas a la descripción del CIIU, debes borrarlas."
      ],
      "metadata": {
        "id": "WiqtdzC4tBsS"
      }
    },
    {
      "cell_type": "code",
      "source": [
        "### TU CÓDIGO AQUÍ ###\n",
        "correlativa=pd.read_excel(\"2025-01-14 Correlativa CIIU Rev4.xlsx\", sheet_name='CIIU 2022', converters={'RAMA4D_R4':str})\n",
        "df_empleo = pd.merge(df_empleo, correlativa, left_on='cod_ciiu', right_on='RAMA4D_R4', how='left')\n",
        "df_empleo.drop(columns=['RAMA4D_R4'], inplace=True)"
      ],
      "metadata": {
        "id": "6_oWG6QFwT78"
      },
      "execution_count": 23,
      "outputs": []
    },
    {
      "cell_type": "code",
      "source": [
        "# Celda de verificación (no modificar)\n",
        "assert 'DESCRIPCION_CIIU' in df_empleo.columns, \\\n",
        "    f\"La columna '{'DESCRIPCION_CIIU'}' no se encontró. Revisa el nombre que le diste a la nueva columna.\"\n",
        "assert df_empleo['DESCRIPCION_CIIU'].notna().sum() > 0, \\\n",
        "    f\"La columna '{'DESCRIPCION_CIIU'}' está completamente vacía. Verifica las llaves del merge.\"\n",
        "print(\"✅ Verificación del merge exitosa.\")"
      ],
      "metadata": {
        "id": "C9WIAoacD0aW",
        "colab": {
          "base_uri": "https://localhost:8080/"
        },
        "outputId": "1b78a110-f0fd-4618-b6a2-5fa09a745498"
      },
      "execution_count": 24,
      "outputs": [
        {
          "output_type": "stream",
          "name": "stdout",
          "text": [
            "✅ Verificación del merge exitosa.\n"
          ]
        }
      ]
    },
    {
      "cell_type": "markdown",
      "source": [
        "3. Utiliza el archivo \"2025-01-14 Divipola.xlsx\", hoja 'Departamentos', para agregar al df_empleo los nombres de los departamentos. En df_empleo la columna con los códigos Divipola de los departamentos se llama 'departamento'. Si se agregan nuevas columnas al dataframe, distintas al nombre del departamento, debes borrarlas."
      ],
      "metadata": {
        "id": "VyjpGIlWu-3r"
      }
    },
    {
      "cell_type": "code",
      "source": [
        "### TU CÓDIGO AQUÍ ###\n",
        "divipola=pd.read_excel(\"2025-01-14 DIVIPOLA.xlsx\", sheet_name='Departamentos', skiprows=9, converters={'Código':str})\n",
        "df_empleo['departamento']=df_empleo['departamento'].astype(str)\n",
        "df_empleo = pd.merge(df_empleo, divipola, left_on='departamento', right_on='Código', how='left')\n",
        "\n",
        "\n"
      ],
      "metadata": {
        "id": "EHmvrKNGwUfs"
      },
      "execution_count": 25,
      "outputs": []
    },
    {
      "cell_type": "code",
      "source": [
        "# Elimina 'Código'\n",
        "df_empleo.drop(columns=['Código'], inplace=True)"
      ],
      "metadata": {
        "id": "v5JmCnhXEax1"
      },
      "execution_count": 26,
      "outputs": []
    },
    {
      "cell_type": "code",
      "source": [
        "df_empleo.head()"
      ],
      "metadata": {
        "colab": {
          "base_uri": "https://localhost:8080/",
          "height": 486
        },
        "id": "xOE9XSfA6OoL",
        "outputId": "bc145770-0618-4ca7-e85e-965a375be450"
      },
      "execution_count": 27,
      "outputs": [
        {
          "output_type": "execute_result",
          "data": {
            "text/plain": [
              "   id_vivienda  id_hogar  id_persona  mes                              clase  \\\n",
              "0      8115690         1           1    2  Centros poblados y rural disperso   \n",
              "1      8115690         1           2    2  Centros poblados y rural disperso   \n",
              "2      8115691         1           1    2  Centros poblados y rural disperso   \n",
              "3      8115691         1           2    2  Centros poblados y rural disperso   \n",
              "4      8115691         1           3    2  Centros poblados y rural disperso   \n",
              "\n",
              "  departamento  factor_expansion  poblacion_total    sexo  edad  \\\n",
              "0           68        365.817359                1  Hombre    77   \n",
              "1           68        365.817359                1   Mujer    74   \n",
              "2           68        988.114227                1   Mujer    36   \n",
              "3           68        988.114227                1  Hombre    40   \n",
              "4           68        988.114227                1  Hombre    11   \n",
              "\n",
              "                grupo_etnico      nivel_educativo  ocupados  \\\n",
              "0  Ninguno de los anteriores                  NaN       NaN   \n",
              "1  Ninguno de los anteriores                  NaN       NaN   \n",
              "2  Ninguno de los anteriores  Técnica profesional       NaN   \n",
              "3  Ninguno de los anteriores  Técnica profesional       1.0   \n",
              "4  Ninguno de los anteriores                  NaN       NaN   \n",
              "\n",
              "  categoria_ocupacional cod_ciiu  ingreso_laboral  \\\n",
              "0                   NaN                       0.0   \n",
              "1                   NaN                       0.0   \n",
              "2                   NaN                       0.0   \n",
              "3            Asalariado     9491        1600000.0   \n",
              "4                   NaN                       0.0   \n",
              "\n",
              "                         DESCRIPCION_CIIU     Nombre  \n",
              "0                                     NaN  SANTANDER  \n",
              "1                                     NaN  SANTANDER  \n",
              "2                                     NaN  SANTANDER  \n",
              "3  Actividades de asociaciones religiosas  SANTANDER  \n",
              "4                                     NaN  SANTANDER  "
            ],
            "text/html": [
              "\n",
              "  <div id=\"df-faa957ca-b000-4656-9feb-8f7ccf7cd416\" class=\"colab-df-container\">\n",
              "    <div>\n",
              "<style scoped>\n",
              "    .dataframe tbody tr th:only-of-type {\n",
              "        vertical-align: middle;\n",
              "    }\n",
              "\n",
              "    .dataframe tbody tr th {\n",
              "        vertical-align: top;\n",
              "    }\n",
              "\n",
              "    .dataframe thead th {\n",
              "        text-align: right;\n",
              "    }\n",
              "</style>\n",
              "<table border=\"1\" class=\"dataframe\">\n",
              "  <thead>\n",
              "    <tr style=\"text-align: right;\">\n",
              "      <th></th>\n",
              "      <th>id_vivienda</th>\n",
              "      <th>id_hogar</th>\n",
              "      <th>id_persona</th>\n",
              "      <th>mes</th>\n",
              "      <th>clase</th>\n",
              "      <th>departamento</th>\n",
              "      <th>factor_expansion</th>\n",
              "      <th>poblacion_total</th>\n",
              "      <th>sexo</th>\n",
              "      <th>edad</th>\n",
              "      <th>grupo_etnico</th>\n",
              "      <th>nivel_educativo</th>\n",
              "      <th>ocupados</th>\n",
              "      <th>categoria_ocupacional</th>\n",
              "      <th>cod_ciiu</th>\n",
              "      <th>ingreso_laboral</th>\n",
              "      <th>DESCRIPCION_CIIU</th>\n",
              "      <th>Nombre</th>\n",
              "    </tr>\n",
              "  </thead>\n",
              "  <tbody>\n",
              "    <tr>\n",
              "      <th>0</th>\n",
              "      <td>8115690</td>\n",
              "      <td>1</td>\n",
              "      <td>1</td>\n",
              "      <td>2</td>\n",
              "      <td>Centros poblados y rural disperso</td>\n",
              "      <td>68</td>\n",
              "      <td>365.817359</td>\n",
              "      <td>1</td>\n",
              "      <td>Hombre</td>\n",
              "      <td>77</td>\n",
              "      <td>Ninguno de los anteriores</td>\n",
              "      <td>NaN</td>\n",
              "      <td>NaN</td>\n",
              "      <td>NaN</td>\n",
              "      <td></td>\n",
              "      <td>0.0</td>\n",
              "      <td>NaN</td>\n",
              "      <td>SANTANDER</td>\n",
              "    </tr>\n",
              "    <tr>\n",
              "      <th>1</th>\n",
              "      <td>8115690</td>\n",
              "      <td>1</td>\n",
              "      <td>2</td>\n",
              "      <td>2</td>\n",
              "      <td>Centros poblados y rural disperso</td>\n",
              "      <td>68</td>\n",
              "      <td>365.817359</td>\n",
              "      <td>1</td>\n",
              "      <td>Mujer</td>\n",
              "      <td>74</td>\n",
              "      <td>Ninguno de los anteriores</td>\n",
              "      <td>NaN</td>\n",
              "      <td>NaN</td>\n",
              "      <td>NaN</td>\n",
              "      <td></td>\n",
              "      <td>0.0</td>\n",
              "      <td>NaN</td>\n",
              "      <td>SANTANDER</td>\n",
              "    </tr>\n",
              "    <tr>\n",
              "      <th>2</th>\n",
              "      <td>8115691</td>\n",
              "      <td>1</td>\n",
              "      <td>1</td>\n",
              "      <td>2</td>\n",
              "      <td>Centros poblados y rural disperso</td>\n",
              "      <td>68</td>\n",
              "      <td>988.114227</td>\n",
              "      <td>1</td>\n",
              "      <td>Mujer</td>\n",
              "      <td>36</td>\n",
              "      <td>Ninguno de los anteriores</td>\n",
              "      <td>Técnica profesional</td>\n",
              "      <td>NaN</td>\n",
              "      <td>NaN</td>\n",
              "      <td></td>\n",
              "      <td>0.0</td>\n",
              "      <td>NaN</td>\n",
              "      <td>SANTANDER</td>\n",
              "    </tr>\n",
              "    <tr>\n",
              "      <th>3</th>\n",
              "      <td>8115691</td>\n",
              "      <td>1</td>\n",
              "      <td>2</td>\n",
              "      <td>2</td>\n",
              "      <td>Centros poblados y rural disperso</td>\n",
              "      <td>68</td>\n",
              "      <td>988.114227</td>\n",
              "      <td>1</td>\n",
              "      <td>Hombre</td>\n",
              "      <td>40</td>\n",
              "      <td>Ninguno de los anteriores</td>\n",
              "      <td>Técnica profesional</td>\n",
              "      <td>1.0</td>\n",
              "      <td>Asalariado</td>\n",
              "      <td>9491</td>\n",
              "      <td>1600000.0</td>\n",
              "      <td>Actividades de asociaciones religiosas</td>\n",
              "      <td>SANTANDER</td>\n",
              "    </tr>\n",
              "    <tr>\n",
              "      <th>4</th>\n",
              "      <td>8115691</td>\n",
              "      <td>1</td>\n",
              "      <td>3</td>\n",
              "      <td>2</td>\n",
              "      <td>Centros poblados y rural disperso</td>\n",
              "      <td>68</td>\n",
              "      <td>988.114227</td>\n",
              "      <td>1</td>\n",
              "      <td>Hombre</td>\n",
              "      <td>11</td>\n",
              "      <td>Ninguno de los anteriores</td>\n",
              "      <td>NaN</td>\n",
              "      <td>NaN</td>\n",
              "      <td>NaN</td>\n",
              "      <td></td>\n",
              "      <td>0.0</td>\n",
              "      <td>NaN</td>\n",
              "      <td>SANTANDER</td>\n",
              "    </tr>\n",
              "  </tbody>\n",
              "</table>\n",
              "</div>\n",
              "    <div class=\"colab-df-buttons\">\n",
              "\n",
              "  <div class=\"colab-df-container\">\n",
              "    <button class=\"colab-df-convert\" onclick=\"convertToInteractive('df-faa957ca-b000-4656-9feb-8f7ccf7cd416')\"\n",
              "            title=\"Convert this dataframe to an interactive table.\"\n",
              "            style=\"display:none;\">\n",
              "\n",
              "  <svg xmlns=\"http://www.w3.org/2000/svg\" height=\"24px\" viewBox=\"0 -960 960 960\">\n",
              "    <path d=\"M120-120v-720h720v720H120Zm60-500h600v-160H180v160Zm220 220h160v-160H400v160Zm0 220h160v-160H400v160ZM180-400h160v-160H180v160Zm440 0h160v-160H620v160ZM180-180h160v-160H180v160Zm440 0h160v-160H620v160Z\"/>\n",
              "  </svg>\n",
              "    </button>\n",
              "\n",
              "  <style>\n",
              "    .colab-df-container {\n",
              "      display:flex;\n",
              "      gap: 12px;\n",
              "    }\n",
              "\n",
              "    .colab-df-convert {\n",
              "      background-color: #E8F0FE;\n",
              "      border: none;\n",
              "      border-radius: 50%;\n",
              "      cursor: pointer;\n",
              "      display: none;\n",
              "      fill: #1967D2;\n",
              "      height: 32px;\n",
              "      padding: 0 0 0 0;\n",
              "      width: 32px;\n",
              "    }\n",
              "\n",
              "    .colab-df-convert:hover {\n",
              "      background-color: #E2EBFA;\n",
              "      box-shadow: 0px 1px 2px rgba(60, 64, 67, 0.3), 0px 1px 3px 1px rgba(60, 64, 67, 0.15);\n",
              "      fill: #174EA6;\n",
              "    }\n",
              "\n",
              "    .colab-df-buttons div {\n",
              "      margin-bottom: 4px;\n",
              "    }\n",
              "\n",
              "    [theme=dark] .colab-df-convert {\n",
              "      background-color: #3B4455;\n",
              "      fill: #D2E3FC;\n",
              "    }\n",
              "\n",
              "    [theme=dark] .colab-df-convert:hover {\n",
              "      background-color: #434B5C;\n",
              "      box-shadow: 0px 1px 3px 1px rgba(0, 0, 0, 0.15);\n",
              "      filter: drop-shadow(0px 1px 2px rgba(0, 0, 0, 0.3));\n",
              "      fill: #FFFFFF;\n",
              "    }\n",
              "  </style>\n",
              "\n",
              "    <script>\n",
              "      const buttonEl =\n",
              "        document.querySelector('#df-faa957ca-b000-4656-9feb-8f7ccf7cd416 button.colab-df-convert');\n",
              "      buttonEl.style.display =\n",
              "        google.colab.kernel.accessAllowed ? 'block' : 'none';\n",
              "\n",
              "      async function convertToInteractive(key) {\n",
              "        const element = document.querySelector('#df-faa957ca-b000-4656-9feb-8f7ccf7cd416');\n",
              "        const dataTable =\n",
              "          await google.colab.kernel.invokeFunction('convertToInteractive',\n",
              "                                                    [key], {});\n",
              "        if (!dataTable) return;\n",
              "\n",
              "        const docLinkHtml = 'Like what you see? Visit the ' +\n",
              "          '<a target=\"_blank\" href=https://colab.research.google.com/notebooks/data_table.ipynb>data table notebook</a>'\n",
              "          + ' to learn more about interactive tables.';\n",
              "        element.innerHTML = '';\n",
              "        dataTable['output_type'] = 'display_data';\n",
              "        await google.colab.output.renderOutput(dataTable, element);\n",
              "        const docLink = document.createElement('div');\n",
              "        docLink.innerHTML = docLinkHtml;\n",
              "        element.appendChild(docLink);\n",
              "      }\n",
              "    </script>\n",
              "  </div>\n",
              "\n",
              "\n",
              "    <div id=\"df-3477b8b7-2200-45d0-9f14-cf28b68d6152\">\n",
              "      <button class=\"colab-df-quickchart\" onclick=\"quickchart('df-3477b8b7-2200-45d0-9f14-cf28b68d6152')\"\n",
              "                title=\"Suggest charts\"\n",
              "                style=\"display:none;\">\n",
              "\n",
              "<svg xmlns=\"http://www.w3.org/2000/svg\" height=\"24px\"viewBox=\"0 0 24 24\"\n",
              "     width=\"24px\">\n",
              "    <g>\n",
              "        <path d=\"M19 3H5c-1.1 0-2 .9-2 2v14c0 1.1.9 2 2 2h14c1.1 0 2-.9 2-2V5c0-1.1-.9-2-2-2zM9 17H7v-7h2v7zm4 0h-2V7h2v10zm4 0h-2v-4h2v4z\"/>\n",
              "    </g>\n",
              "</svg>\n",
              "      </button>\n",
              "\n",
              "<style>\n",
              "  .colab-df-quickchart {\n",
              "      --bg-color: #E8F0FE;\n",
              "      --fill-color: #1967D2;\n",
              "      --hover-bg-color: #E2EBFA;\n",
              "      --hover-fill-color: #174EA6;\n",
              "      --disabled-fill-color: #AAA;\n",
              "      --disabled-bg-color: #DDD;\n",
              "  }\n",
              "\n",
              "  [theme=dark] .colab-df-quickchart {\n",
              "      --bg-color: #3B4455;\n",
              "      --fill-color: #D2E3FC;\n",
              "      --hover-bg-color: #434B5C;\n",
              "      --hover-fill-color: #FFFFFF;\n",
              "      --disabled-bg-color: #3B4455;\n",
              "      --disabled-fill-color: #666;\n",
              "  }\n",
              "\n",
              "  .colab-df-quickchart {\n",
              "    background-color: var(--bg-color);\n",
              "    border: none;\n",
              "    border-radius: 50%;\n",
              "    cursor: pointer;\n",
              "    display: none;\n",
              "    fill: var(--fill-color);\n",
              "    height: 32px;\n",
              "    padding: 0;\n",
              "    width: 32px;\n",
              "  }\n",
              "\n",
              "  .colab-df-quickchart:hover {\n",
              "    background-color: var(--hover-bg-color);\n",
              "    box-shadow: 0 1px 2px rgba(60, 64, 67, 0.3), 0 1px 3px 1px rgba(60, 64, 67, 0.15);\n",
              "    fill: var(--button-hover-fill-color);\n",
              "  }\n",
              "\n",
              "  .colab-df-quickchart-complete:disabled,\n",
              "  .colab-df-quickchart-complete:disabled:hover {\n",
              "    background-color: var(--disabled-bg-color);\n",
              "    fill: var(--disabled-fill-color);\n",
              "    box-shadow: none;\n",
              "  }\n",
              "\n",
              "  .colab-df-spinner {\n",
              "    border: 2px solid var(--fill-color);\n",
              "    border-color: transparent;\n",
              "    border-bottom-color: var(--fill-color);\n",
              "    animation:\n",
              "      spin 1s steps(1) infinite;\n",
              "  }\n",
              "\n",
              "  @keyframes spin {\n",
              "    0% {\n",
              "      border-color: transparent;\n",
              "      border-bottom-color: var(--fill-color);\n",
              "      border-left-color: var(--fill-color);\n",
              "    }\n",
              "    20% {\n",
              "      border-color: transparent;\n",
              "      border-left-color: var(--fill-color);\n",
              "      border-top-color: var(--fill-color);\n",
              "    }\n",
              "    30% {\n",
              "      border-color: transparent;\n",
              "      border-left-color: var(--fill-color);\n",
              "      border-top-color: var(--fill-color);\n",
              "      border-right-color: var(--fill-color);\n",
              "    }\n",
              "    40% {\n",
              "      border-color: transparent;\n",
              "      border-right-color: var(--fill-color);\n",
              "      border-top-color: var(--fill-color);\n",
              "    }\n",
              "    60% {\n",
              "      border-color: transparent;\n",
              "      border-right-color: var(--fill-color);\n",
              "    }\n",
              "    80% {\n",
              "      border-color: transparent;\n",
              "      border-right-color: var(--fill-color);\n",
              "      border-bottom-color: var(--fill-color);\n",
              "    }\n",
              "    90% {\n",
              "      border-color: transparent;\n",
              "      border-bottom-color: var(--fill-color);\n",
              "    }\n",
              "  }\n",
              "</style>\n",
              "\n",
              "      <script>\n",
              "        async function quickchart(key) {\n",
              "          const quickchartButtonEl =\n",
              "            document.querySelector('#' + key + ' button');\n",
              "          quickchartButtonEl.disabled = true;  // To prevent multiple clicks.\n",
              "          quickchartButtonEl.classList.add('colab-df-spinner');\n",
              "          try {\n",
              "            const charts = await google.colab.kernel.invokeFunction(\n",
              "                'suggestCharts', [key], {});\n",
              "          } catch (error) {\n",
              "            console.error('Error during call to suggestCharts:', error);\n",
              "          }\n",
              "          quickchartButtonEl.classList.remove('colab-df-spinner');\n",
              "          quickchartButtonEl.classList.add('colab-df-quickchart-complete');\n",
              "        }\n",
              "        (() => {\n",
              "          let quickchartButtonEl =\n",
              "            document.querySelector('#df-3477b8b7-2200-45d0-9f14-cf28b68d6152 button');\n",
              "          quickchartButtonEl.style.display =\n",
              "            google.colab.kernel.accessAllowed ? 'block' : 'none';\n",
              "        })();\n",
              "      </script>\n",
              "    </div>\n",
              "\n",
              "    </div>\n",
              "  </div>\n"
            ],
            "application/vnd.google.colaboratory.intrinsic+json": {
              "type": "dataframe",
              "variable_name": "df_empleo"
            }
          },
          "metadata": {},
          "execution_count": 27
        }
      ]
    },
    {
      "cell_type": "code",
      "source": [
        "# Celda de verificación (no modificar)\n",
        "assert 'Nombre' in df_empleo.columns, \\\n",
        "    f\"La columna '{'Nombre'}' no se encontró. Revisa el nombre que le diste a la nueva columna.\"\n",
        "assert df_empleo['Nombre'].notna().sum() > 0, \\\n",
        "    f\"La columna '{'Nombre'}' está completamente vacía. Verifica las llaves del merge.\"\n",
        "print(\"✅ Verificación del merge exitosa.\")\n",
        "assert df_empleo.shape[0] == 408423, f\"Error en las filas. Se esperaban 408423, pero se encontraron {df_empleo.shape[0]}.\"\n",
        "assert df_empleo.shape[1] == 18, f\"Error en las columnas. Se esperaban 18, pero se encontraron {df_empleo.shape[1]}.\"\n",
        "print(\"¡Las dimensiones del DataFrame son correctas! ✅\")\n",
        "print(\"\\n¡Punto 5 completado con éxito! ✅\")"
      ],
      "metadata": {
        "id": "KZHvI9gMKwVN",
        "colab": {
          "base_uri": "https://localhost:8080/"
        },
        "outputId": "aa2ff5ba-47da-405a-9e0c-62242ad54ac6"
      },
      "execution_count": 28,
      "outputs": [
        {
          "output_type": "stream",
          "name": "stdout",
          "text": [
            "✅ Verificación del merge exitosa.\n",
            "¡Las dimensiones del DataFrame son correctas! ✅\n",
            "\n",
            "¡Punto 5 completado con éxito! ✅\n"
          ]
        }
      ]
    },
    {
      "cell_type": "markdown",
      "source": [
        "# Ejercicio 6: Crear nuevas variables y reorganizar columnas (10%)"
      ],
      "metadata": {
        "id": "Y-ItflSvwyUp"
      }
    },
    {
      "cell_type": "markdown",
      "source": [
        "La GEIH cuenta con un factor de expansión que permite extrapolar los datos de los encuestados a totales para la población colombiana. Usar este factor de expansión, permite calcular la población total del país, la población en edad de trabajar, el número de ocupados, el número de desempleados, entre otros datos."
      ],
      "metadata": {
        "id": "iLZcL0jZ5s3a"
      }
    },
    {
      "cell_type": "markdown",
      "source": [
        "1. Crea una nueva columna llamada \"fex\", la cual corresponderá a la columna 'factor_expansion' dividida en 6 (se divide en 6, ya que estamos tomando el dato de 6 meses)."
      ],
      "metadata": {
        "id": "4Kx-Bp4_ymPr"
      }
    },
    {
      "cell_type": "code",
      "source": [
        "### TU CÓDIGO AQUÍ ###\n",
        "# Haces la división directamente, forzando la conversión dentro de la operación:\n",
        "df_empleo['fex'] = df_empleo['factor_expansion'].astype(float) / 6"
      ],
      "metadata": {
        "id": "7mrMJ9nbxSAQ"
      },
      "execution_count": 29,
      "outputs": []
    },
    {
      "cell_type": "markdown",
      "source": [
        "2. Crea una nueva columna llamada 'poblacion_total_ex', la cual corresponderá a la columna 'poblacion_total' multiplicada por la columna 'fex'."
      ],
      "metadata": {
        "id": "DktrPTCoy4M1"
      }
    },
    {
      "cell_type": "code",
      "source": [
        "### TU CÓDIGO AQUÍ ###\n",
        "df_empleo['poblacion_total_ex']=df_empleo['poblacion_total'].astype(float)*df_empleo['fex']"
      ],
      "metadata": {
        "id": "0aepu9XDzVkk"
      },
      "execution_count": 30,
      "outputs": []
    },
    {
      "cell_type": "markdown",
      "source": [
        "3. Crea una nueva columna llamada 'ocupados_ex', la cual corresponderá a la columna 'ocupados' multiplicada por la columna 'fex'."
      ],
      "metadata": {
        "id": "hX_zBVyNzIac"
      }
    },
    {
      "cell_type": "code",
      "source": [
        "### TU CÓDIGO AQUÍ ###\n",
        "df_empleo['ocupados_ex']=df_empleo['ocupados'].astype(float)*df_empleo['fex']"
      ],
      "metadata": {
        "id": "dvIT6DWszV70"
      },
      "execution_count": 31,
      "outputs": []
    },
    {
      "cell_type": "markdown",
      "source": [
        "4. Crea una nueva columna llamada 'joven', la cual debe decir 'Población joven' si la persona encuestada tiene entre 15 y 28 años (15 y 28 incluidos). De lo contrario, debe decir 'Resto de población'."
      ],
      "metadata": {
        "id": "L8wLDKDozSV_"
      }
    },
    {
      "cell_type": "code",
      "source": [
        "### TU CÓDIGO AQUÍ ###\n",
        "df_empleo['edad'] = df_empleo['edad'].astype(int)\n",
        "\n",
        "\n",
        "condicion_joven = (df_empleo['edad'] >= 15) & (df_empleo['edad'] <= 28)\n",
        "df_empleo['joven'] = np.where(\n",
        "    condicion_joven, 'Población joven','Resto de población' )"
      ],
      "metadata": {
        "id": "tf5fV4BuzWhZ"
      },
      "execution_count": 32,
      "outputs": []
    },
    {
      "cell_type": "markdown",
      "source": [
        "5. Reorganiza las columnas con el siguiente orden: 'id_vivienda', 'id_hogar', 'id_persona', 'mes', 'clase', 'departamento', 'Nombre', 'factor_expansion', 'fex', 'poblacion_total', 'poblacion_total_ex', 'sexo', 'edad', 'joven', 'grupo_etnico', 'nivel_educativo', 'ocupados', 'ocupados_ex', 'categoria_ocupacional', 'cod_ciiu', 'DESCRIPCION_CIIU', 'ingreso_laboral'"
      ],
      "metadata": {
        "id": "iHWtz2x8z_ht"
      }
    },
    {
      "cell_type": "code",
      "source": [
        "### TU CÓDIGO AQUÍ ###\n",
        "df_empleo = df_empleo[['id_vivienda', 'id_hogar', 'id_persona', 'mes', 'clase', 'departamento', 'Nombre', 'factor_expansion', 'fex', 'poblacion_total', 'poblacion_total_ex', 'sexo', 'edad', 'joven', 'grupo_etnico', 'nivel_educativo', 'ocupados', 'ocupados_ex', 'categoria_ocupacional', 'cod_ciiu', 'DESCRIPCION_CIIU', 'ingreso_laboral']]"
      ],
      "metadata": {
        "id": "MbyQ3HpS0RUH"
      },
      "execution_count": 33,
      "outputs": []
    },
    {
      "cell_type": "code",
      "source": [
        "# Celda de verificación (no modificar)\n",
        "orden_esperado = [\n",
        "    'id_vivienda', 'id_hogar', 'id_persona', 'mes', 'clase',\n",
        "    'departamento', 'Nombre', 'factor_expansion', 'fex',\n",
        "    'poblacion_total', 'poblacion_total_ex', 'sexo', 'edad', 'joven',\n",
        "    'grupo_etnico', 'nivel_educativo', 'ocupados', 'ocupados_ex',\n",
        "    'categoria_ocupacional', 'cod_ciiu', 'DESCRIPCION_CIIU', 'ingreso_laboral'\n",
        "]\n",
        "orden_actual = df_empleo.columns.tolist()\n",
        "assert orden_actual == orden_esperado, \\\n",
        "    f\"\"\"El orden de las columnas es incorrecto.\n",
        "    - Orden Esperado: {orden_esperado}\n",
        "    - Orden Encontrado: {orden_actual}\"\"\"\n",
        "assert df_empleo.shape[0] == 408423, f\"Error en las filas. Se esperaban 408423, pero se encontraron {df_empleo.shape[0]}.\"\n",
        "assert df_empleo.shape[1] == 22, f\"Error en las columnas. Se esperaban 22, pero se encontraron {df_empleo.shape[1]}.\"\n",
        "print(\"¡Las dimensiones del DataFrame son correctas! ✅\")\n",
        "print(\"\\n¡Punto 6 completado con éxito! ✅\")"
      ],
      "metadata": {
        "id": "ihsGB0I4DRVY",
        "colab": {
          "base_uri": "https://localhost:8080/"
        },
        "outputId": "b883e54d-cce5-4049-f7fa-0efa52f96604"
      },
      "execution_count": 34,
      "outputs": [
        {
          "output_type": "stream",
          "name": "stdout",
          "text": [
            "¡Las dimensiones del DataFrame son correctas! ✅\n",
            "\n",
            "¡Punto 6 completado con éxito! ✅\n"
          ]
        }
      ]
    },
    {
      "cell_type": "markdown",
      "source": [
        "# Ejercicio 7: Cambiar tipo de dato (5%)\n",
        "\n"
      ],
      "metadata": {
        "id": "8Gpb7yfwKFO-"
      }
    },
    {
      "cell_type": "markdown",
      "source": [
        "Para realizar cálculos y análisis correctamente, las columnas deben tener el tipo de dato adecuado (numérico, categórico, etc.)."
      ],
      "metadata": {
        "id": "hkFBRCzwKOEE"
      }
    },
    {
      "cell_type": "markdown",
      "source": [
        "1.  Muestra en pantalla los tipos de datos actuales de `df_empleo`."
      ],
      "metadata": {
        "id": "kRT7DF6s7BCL"
      }
    },
    {
      "cell_type": "code",
      "source": [
        "### TU CÓDIGO AQUÍ ###\n",
        "df_empleo.dtypes"
      ],
      "metadata": {
        "id": "k0_IEFNH0_UK",
        "colab": {
          "base_uri": "https://localhost:8080/",
          "height": 774
        },
        "outputId": "4998c7c1-8d75-4b90-f7ca-62202fe1d043"
      },
      "execution_count": 35,
      "outputs": [
        {
          "output_type": "execute_result",
          "data": {
            "text/plain": [
              "id_vivienda                int64\n",
              "id_hogar                   int64\n",
              "id_persona                 int64\n",
              "mes                        int64\n",
              "clase                     object\n",
              "departamento              object\n",
              "Nombre                    object\n",
              "factor_expansion         float64\n",
              "fex                      float64\n",
              "poblacion_total            int64\n",
              "poblacion_total_ex       float64\n",
              "sexo                      object\n",
              "edad                       int64\n",
              "joven                     object\n",
              "grupo_etnico              object\n",
              "nivel_educativo           object\n",
              "ocupados                 float64\n",
              "ocupados_ex              float64\n",
              "categoria_ocupacional     object\n",
              "cod_ciiu                  object\n",
              "DESCRIPCION_CIIU          object\n",
              "ingreso_laboral          float64\n",
              "dtype: object"
            ],
            "text/html": [
              "<div>\n",
              "<style scoped>\n",
              "    .dataframe tbody tr th:only-of-type {\n",
              "        vertical-align: middle;\n",
              "    }\n",
              "\n",
              "    .dataframe tbody tr th {\n",
              "        vertical-align: top;\n",
              "    }\n",
              "\n",
              "    .dataframe thead th {\n",
              "        text-align: right;\n",
              "    }\n",
              "</style>\n",
              "<table border=\"1\" class=\"dataframe\">\n",
              "  <thead>\n",
              "    <tr style=\"text-align: right;\">\n",
              "      <th></th>\n",
              "      <th>0</th>\n",
              "    </tr>\n",
              "  </thead>\n",
              "  <tbody>\n",
              "    <tr>\n",
              "      <th>id_vivienda</th>\n",
              "      <td>int64</td>\n",
              "    </tr>\n",
              "    <tr>\n",
              "      <th>id_hogar</th>\n",
              "      <td>int64</td>\n",
              "    </tr>\n",
              "    <tr>\n",
              "      <th>id_persona</th>\n",
              "      <td>int64</td>\n",
              "    </tr>\n",
              "    <tr>\n",
              "      <th>mes</th>\n",
              "      <td>int64</td>\n",
              "    </tr>\n",
              "    <tr>\n",
              "      <th>clase</th>\n",
              "      <td>object</td>\n",
              "    </tr>\n",
              "    <tr>\n",
              "      <th>departamento</th>\n",
              "      <td>object</td>\n",
              "    </tr>\n",
              "    <tr>\n",
              "      <th>Nombre</th>\n",
              "      <td>object</td>\n",
              "    </tr>\n",
              "    <tr>\n",
              "      <th>factor_expansion</th>\n",
              "      <td>float64</td>\n",
              "    </tr>\n",
              "    <tr>\n",
              "      <th>fex</th>\n",
              "      <td>float64</td>\n",
              "    </tr>\n",
              "    <tr>\n",
              "      <th>poblacion_total</th>\n",
              "      <td>int64</td>\n",
              "    </tr>\n",
              "    <tr>\n",
              "      <th>poblacion_total_ex</th>\n",
              "      <td>float64</td>\n",
              "    </tr>\n",
              "    <tr>\n",
              "      <th>sexo</th>\n",
              "      <td>object</td>\n",
              "    </tr>\n",
              "    <tr>\n",
              "      <th>edad</th>\n",
              "      <td>int64</td>\n",
              "    </tr>\n",
              "    <tr>\n",
              "      <th>joven</th>\n",
              "      <td>object</td>\n",
              "    </tr>\n",
              "    <tr>\n",
              "      <th>grupo_etnico</th>\n",
              "      <td>object</td>\n",
              "    </tr>\n",
              "    <tr>\n",
              "      <th>nivel_educativo</th>\n",
              "      <td>object</td>\n",
              "    </tr>\n",
              "    <tr>\n",
              "      <th>ocupados</th>\n",
              "      <td>float64</td>\n",
              "    </tr>\n",
              "    <tr>\n",
              "      <th>ocupados_ex</th>\n",
              "      <td>float64</td>\n",
              "    </tr>\n",
              "    <tr>\n",
              "      <th>categoria_ocupacional</th>\n",
              "      <td>object</td>\n",
              "    </tr>\n",
              "    <tr>\n",
              "      <th>cod_ciiu</th>\n",
              "      <td>object</td>\n",
              "    </tr>\n",
              "    <tr>\n",
              "      <th>DESCRIPCION_CIIU</th>\n",
              "      <td>object</td>\n",
              "    </tr>\n",
              "    <tr>\n",
              "      <th>ingreso_laboral</th>\n",
              "      <td>float64</td>\n",
              "    </tr>\n",
              "  </tbody>\n",
              "</table>\n",
              "</div><br><label><b>dtype:</b> object</label>"
            ]
          },
          "metadata": {},
          "execution_count": 35
        }
      ]
    },
    {
      "cell_type": "markdown",
      "source": [
        "2.  Las siguientes columnas representan categorías: 'clase', 'departamento', 'Nombre', 'sexo', 'joven', 'grupo_etnico', 'nivel_educativo', 'categoria_ocupacional', 'cod_ciiu', 'DESCRIPCION_CIIU'. Conviértelas al tipo `category` para optimizar el uso de memoria y facilitar análisis futuros."
      ],
      "metadata": {
        "id": "zXy988Qm1OS2"
      }
    },
    {
      "cell_type": "code",
      "source": [
        "### TU CÓDIGO AQUÍ ###\n",
        "# Convierte la columna 'sexo' a tipo category\n",
        "columnas_categoricas=['clase', 'departamento', 'Nombre', 'sexo', 'joven', 'grupo_etnico', 'nivel_educativo', 'categoria_ocupacional', 'cod_ciiu', 'DESCRIPCION_CIIU']\n",
        "\n",
        "for i in columnas_categoricas:\n",
        "\n",
        "    df_empleo[i] = df_empleo[i].astype('category')"
      ],
      "metadata": {
        "id": "5BkR3NX802TV"
      },
      "execution_count": 36,
      "outputs": []
    },
    {
      "cell_type": "code",
      "source": [
        "# Celda de verificación (no modificar)\n",
        "columnas_categoricas_esperadas = [\n",
        "    'clase', 'departamento', 'Nombre', 'sexo', 'joven', 'grupo_etnico',\n",
        "    'nivel_educativo', 'categoria_ocupacional', 'cod_ciiu',\n",
        "    'DESCRIPCION_CIIU'\n",
        "]\n",
        "for columna in columnas_categoricas_esperadas:\n",
        "    assert columna in df_empleo.columns, \\\n",
        "        f\"La columna '{columna}' no fue encontrada en el DataFrame.\"\n",
        "    es_categoria = pd.api.types.is_categorical_dtype(df_empleo[columna])\n",
        "    assert es_categoria, \\\n",
        "        f\"La columna '{columna}' no fue convertida al tipo 'category'. Su tipo actual es {df_empleo[columna].dtype}.\"\n",
        "print(\"¡Verificación completada con éxito! ✅ Todas las columnas especificadas son del tipo 'category'.\")\n",
        "print(\"\\n¡Punto 7 completado con éxito! ✅\")"
      ],
      "metadata": {
        "id": "JFzWIE9YDTif",
        "colab": {
          "base_uri": "https://localhost:8080/"
        },
        "outputId": "5f8df7c9-0dd9-4df3-ccf5-56fe41e1f924"
      },
      "execution_count": 37,
      "outputs": [
        {
          "output_type": "stream",
          "name": "stdout",
          "text": [
            "¡Verificación completada con éxito! ✅ Todas las columnas especificadas son del tipo 'category'.\n",
            "\n",
            "¡Punto 7 completado con éxito! ✅\n"
          ]
        },
        {
          "output_type": "stream",
          "name": "stderr",
          "text": [
            "/tmp/ipython-input-416816491.py:10: DeprecationWarning: is_categorical_dtype is deprecated and will be removed in a future version. Use isinstance(dtype, pd.CategoricalDtype) instead\n",
            "  es_categoria = pd.api.types.is_categorical_dtype(df_empleo[columna])\n"
          ]
        }
      ]
    },
    {
      "cell_type": "markdown",
      "source": [
        "# Ejercicio 8: Ordenar el dataframe (5%)"
      ],
      "metadata": {
        "id": "Wb-HHqtYxCkN"
      }
    },
    {
      "cell_type": "markdown",
      "source": [
        "1. Ordena el dataframe por la columna \"edad\" de mayor a menor. Observa la columna 'edad' y escribe en una celda de markdown cuál fue la edad mínima y la edad máxima de las personas que respondieron la encuesta de la GEIH."
      ],
      "metadata": {
        "id": "TDMbWuW61amC"
      }
    },
    {
      "cell_type": "code",
      "source": [
        "### TU CÓDIGO AQUÍ ###\n",
        "df_empleo.sort_values('edad', ascending=False, inplace=True)"
      ],
      "metadata": {
        "id": "06mW7HzCxTkj"
      },
      "execution_count": 38,
      "outputs": []
    },
    {
      "cell_type": "markdown",
      "source": [
        "Escribe tu análisis aquí:\n",
        "la edad máxima fué de **106** años y la más pequela fué de **0** años, lo cual tiene sentido porque el DANE en su metolodía pregunta por los años cumplidos y no la edad en días y/o meses.\n"
      ],
      "metadata": {
        "id": "31QU_qxs159w"
      }
    },
    {
      "cell_type": "code",
      "source": [
        "# Celda de verificación (no modificar)\n",
        "es_descendiente = df_empleo['edad'].is_monotonic_decreasing\n",
        "assert es_descendiente, \"La columna 'edad' no está ordenada correctamente de mayor a menor.\"\n",
        "print(\"\\n¡Punto 8 completado con éxito! ✅\")"
      ],
      "metadata": {
        "id": "kWZSyN2BDVR6",
        "colab": {
          "base_uri": "https://localhost:8080/"
        },
        "outputId": "451f4206-0add-4b50-91c3-3f6324924f95"
      },
      "execution_count": 39,
      "outputs": [
        {
          "output_type": "stream",
          "name": "stdout",
          "text": [
            "\n",
            "¡Punto 8 completado con éxito! ✅\n"
          ]
        }
      ]
    },
    {
      "cell_type": "markdown",
      "source": [
        "# Ejercicio 9: Groupby (20%)"
      ],
      "metadata": {
        "id": "c54hCArwxGil"
      }
    },
    {
      "cell_type": "markdown",
      "source": [
        "Agrupar los datos por categorías, nos permite realizar análisis más profundos y obtener insights valiosos, que a simple vista no vemos en la base de datos."
      ],
      "metadata": {
        "id": "ySxil6P27h77"
      }
    },
    {
      "cell_type": "markdown",
      "source": [
        "1. Crea un nuevo dataframe llamado \"df_sexo\" donde se agrupe por 'sexo' y se calcule la suma de las columnas 'poblacion_total_ex' y 'ocupados_ex'. Crea una nueva columna que se llame 'porcentaje_ocupados' donde dividas las columna 'ocupados_ex' sobre 'poblacion_total_ex'. Al final usa reset_index() para convertir las categorías de sexo en una columna."
      ],
      "metadata": {
        "id": "WIHMjFV-22-u"
      }
    },
    {
      "cell_type": "code",
      "source": [
        "### TU CÓDIGO AQUÍ ###\n",
        "df_sexo=df_empleo.groupby('sexo')[['poblacion_total_ex', 'ocupados_ex']].sum()\n",
        "df_sexo['porcentaje_ocupados']=df_sexo['ocupados_ex']/df_sexo['poblacion_total_ex']\n",
        "df_sexo = df_sexo.reset_index()"
      ],
      "metadata": {
        "id": "7WYPnwy122-w",
        "colab": {
          "base_uri": "https://localhost:8080/"
        },
        "outputId": "5cf6d064-21b5-4cf5-ca74-4a15b71e6674"
      },
      "execution_count": 40,
      "outputs": [
        {
          "output_type": "stream",
          "name": "stderr",
          "text": [
            "/tmp/ipython-input-2247708447.py:2: FutureWarning: The default of observed=False is deprecated and will be changed to True in a future version of pandas. Pass observed=False to retain current behavior or observed=True to adopt the future default and silence this warning.\n",
            "  df_sexo=df_empleo.groupby('sexo')[['poblacion_total_ex', 'ocupados_ex']].sum()\n"
          ]
        }
      ]
    },
    {
      "cell_type": "code",
      "source": [
        "# Celda de verificación (no modificar)\n",
        "import numpy as np\n",
        "dimensiones_esperadas = (2, 4)\n",
        "assert df_sexo.shape == dimensiones_esperadas, \\\n",
        "    f\"Las dimensiones son incorrectas. Se esperaba {dimensiones_esperadas}, pero se encontró {df_sexo.shape}. ¿Aplicaste .reset_index()?\"\n",
        "assert 'sexo' in df_sexo.columns, \\\n",
        "    \"La columna 'sexo' no se encontró. ¿Olvidaste usar .reset_index() al final?\"\n",
        "assert not isinstance(df_sexo.index, pd.Index) or df_sexo.index.name != 'sexo', \\\n",
        "    \"El índice del DataFrame sigue siendo 'sexo'. Asegúrate de haber aplicado .reset_index().\"\n",
        "print(\"¡Verificación completada con éxito! ✅\")"
      ],
      "metadata": {
        "id": "NMRagQ94XNGL",
        "colab": {
          "base_uri": "https://localhost:8080/"
        },
        "outputId": "e686fb92-1cfa-4ded-dee3-d76b1e73fc74"
      },
      "execution_count": 41,
      "outputs": [
        {
          "output_type": "stream",
          "name": "stdout",
          "text": [
            "¡Verificación completada con éxito! ✅\n"
          ]
        }
      ]
    },
    {
      "cell_type": "markdown",
      "source": [
        "2. Crea un nuevo dataframe llamado \"df_educacion\" donde se agrupe por 'nivel_educativo' y se calcule la suma de las columnas 'poblacion_total_ex' y 'ocupados_ex'. Crea una nueva columna que se llame 'porcentaje_ocupados' donde dividas las columna 'ocupados_ex' sobre 'poblacion_total_ex'. Al final usa reset_index() para convertir las categorías de nivel educativo en una columna."
      ],
      "metadata": {
        "id": "MefzseKr23UG"
      }
    },
    {
      "cell_type": "code",
      "source": [
        "### TU CÓDIGO AQUÍ ###\n",
        "df_educacion=df_empleo.groupby('nivel_educativo')[['poblacion_total_ex','ocupados_ex']].sum()\n",
        "df_educacion['porcentaje_ocupados']=df_educacion['ocupados_ex']/df_educacion['poblacion_total_ex']\n",
        "df_educacion=df_educacion.reset_index()"
      ],
      "metadata": {
        "id": "3NRkgzh523UH",
        "colab": {
          "base_uri": "https://localhost:8080/"
        },
        "outputId": "a15e59b5-e96b-478e-90c6-33c665e0d2b1"
      },
      "execution_count": 42,
      "outputs": [
        {
          "output_type": "stream",
          "name": "stderr",
          "text": [
            "/tmp/ipython-input-3430897162.py:2: FutureWarning: The default of observed=False is deprecated and will be changed to True in a future version of pandas. Pass observed=False to retain current behavior or observed=True to adopt the future default and silence this warning.\n",
            "  df_educacion=df_empleo.groupby('nivel_educativo')[['poblacion_total_ex','ocupados_ex']].sum()\n"
          ]
        }
      ]
    },
    {
      "cell_type": "code",
      "source": [
        "# --- Celda de Verificación (No modificar) ---\n",
        "import numpy as np\n",
        "n_niveles_educativos = df_empleo['nivel_educativo'].nunique()\n",
        "dimensiones_esperadas = (n_niveles_educativos, 4)\n",
        "assert df_educacion.shape == dimensiones_esperadas, \\\n",
        "    f\"Las dimensiones son incorrectas. Se esperaba {dimensiones_esperadas} (filas, columnas), pero se encontró {df_educacion.shape}.\"\n",
        "columnas_esperadas = {'nivel_educativo', 'poblacion_total_ex', 'ocupados_ex', 'porcentaje_ocupados'}\n",
        "assert set(df_educacion.columns) == columnas_esperadas, \\\n",
        "    f\"Los nombres de las columnas no son correctos. Se esperaban {columnas_esperadas}.\"\n",
        "assert 'nivel_educativo' in df_educacion.columns, \\\n",
        "    \"La columna 'nivel_educativo' no se encontró. ¿Olvidaste usar .reset_index() al final?\"\n",
        "print(\"¡Verificación completada con éxito! ✅\")"
      ],
      "metadata": {
        "id": "SFZFncwpfpft",
        "colab": {
          "base_uri": "https://localhost:8080/"
        },
        "outputId": "b6161ea8-a41a-423f-d10e-8a1abfe91905"
      },
      "execution_count": 43,
      "outputs": [
        {
          "output_type": "stream",
          "name": "stdout",
          "text": [
            "¡Verificación completada con éxito! ✅\n"
          ]
        }
      ]
    },
    {
      "cell_type": "code",
      "source": [
        "df_sexo.head()\n"
      ],
      "metadata": {
        "colab": {
          "base_uri": "https://localhost:8080/",
          "height": 112
        },
        "id": "6TstHdwJYC6W",
        "outputId": "f0de4124-49a0-478f-a7ff-31001bd123d2"
      },
      "execution_count": 44,
      "outputs": [
        {
          "output_type": "execute_result",
          "data": {
            "text/plain": [
              "     sexo  poblacion_total_ex   ocupados_ex  porcentaje_ocupados\n",
              "0  Hombre        2.525511e+07  1.379736e+07             0.546320\n",
              "1   Mujer        2.668224e+07  9.707732e+06             0.363827"
            ],
            "text/html": [
              "\n",
              "  <div id=\"df-9914abe2-0a12-4d9b-ba41-66570b84fe15\" class=\"colab-df-container\">\n",
              "    <div>\n",
              "<style scoped>\n",
              "    .dataframe tbody tr th:only-of-type {\n",
              "        vertical-align: middle;\n",
              "    }\n",
              "\n",
              "    .dataframe tbody tr th {\n",
              "        vertical-align: top;\n",
              "    }\n",
              "\n",
              "    .dataframe thead th {\n",
              "        text-align: right;\n",
              "    }\n",
              "</style>\n",
              "<table border=\"1\" class=\"dataframe\">\n",
              "  <thead>\n",
              "    <tr style=\"text-align: right;\">\n",
              "      <th></th>\n",
              "      <th>sexo</th>\n",
              "      <th>poblacion_total_ex</th>\n",
              "      <th>ocupados_ex</th>\n",
              "      <th>porcentaje_ocupados</th>\n",
              "    </tr>\n",
              "  </thead>\n",
              "  <tbody>\n",
              "    <tr>\n",
              "      <th>0</th>\n",
              "      <td>Hombre</td>\n",
              "      <td>2.525511e+07</td>\n",
              "      <td>1.379736e+07</td>\n",
              "      <td>0.546320</td>\n",
              "    </tr>\n",
              "    <tr>\n",
              "      <th>1</th>\n",
              "      <td>Mujer</td>\n",
              "      <td>2.668224e+07</td>\n",
              "      <td>9.707732e+06</td>\n",
              "      <td>0.363827</td>\n",
              "    </tr>\n",
              "  </tbody>\n",
              "</table>\n",
              "</div>\n",
              "    <div class=\"colab-df-buttons\">\n",
              "\n",
              "  <div class=\"colab-df-container\">\n",
              "    <button class=\"colab-df-convert\" onclick=\"convertToInteractive('df-9914abe2-0a12-4d9b-ba41-66570b84fe15')\"\n",
              "            title=\"Convert this dataframe to an interactive table.\"\n",
              "            style=\"display:none;\">\n",
              "\n",
              "  <svg xmlns=\"http://www.w3.org/2000/svg\" height=\"24px\" viewBox=\"0 -960 960 960\">\n",
              "    <path d=\"M120-120v-720h720v720H120Zm60-500h600v-160H180v160Zm220 220h160v-160H400v160Zm0 220h160v-160H400v160ZM180-400h160v-160H180v160Zm440 0h160v-160H620v160ZM180-180h160v-160H180v160Zm440 0h160v-160H620v160Z\"/>\n",
              "  </svg>\n",
              "    </button>\n",
              "\n",
              "  <style>\n",
              "    .colab-df-container {\n",
              "      display:flex;\n",
              "      gap: 12px;\n",
              "    }\n",
              "\n",
              "    .colab-df-convert {\n",
              "      background-color: #E8F0FE;\n",
              "      border: none;\n",
              "      border-radius: 50%;\n",
              "      cursor: pointer;\n",
              "      display: none;\n",
              "      fill: #1967D2;\n",
              "      height: 32px;\n",
              "      padding: 0 0 0 0;\n",
              "      width: 32px;\n",
              "    }\n",
              "\n",
              "    .colab-df-convert:hover {\n",
              "      background-color: #E2EBFA;\n",
              "      box-shadow: 0px 1px 2px rgba(60, 64, 67, 0.3), 0px 1px 3px 1px rgba(60, 64, 67, 0.15);\n",
              "      fill: #174EA6;\n",
              "    }\n",
              "\n",
              "    .colab-df-buttons div {\n",
              "      margin-bottom: 4px;\n",
              "    }\n",
              "\n",
              "    [theme=dark] .colab-df-convert {\n",
              "      background-color: #3B4455;\n",
              "      fill: #D2E3FC;\n",
              "    }\n",
              "\n",
              "    [theme=dark] .colab-df-convert:hover {\n",
              "      background-color: #434B5C;\n",
              "      box-shadow: 0px 1px 3px 1px rgba(0, 0, 0, 0.15);\n",
              "      filter: drop-shadow(0px 1px 2px rgba(0, 0, 0, 0.3));\n",
              "      fill: #FFFFFF;\n",
              "    }\n",
              "  </style>\n",
              "\n",
              "    <script>\n",
              "      const buttonEl =\n",
              "        document.querySelector('#df-9914abe2-0a12-4d9b-ba41-66570b84fe15 button.colab-df-convert');\n",
              "      buttonEl.style.display =\n",
              "        google.colab.kernel.accessAllowed ? 'block' : 'none';\n",
              "\n",
              "      async function convertToInteractive(key) {\n",
              "        const element = document.querySelector('#df-9914abe2-0a12-4d9b-ba41-66570b84fe15');\n",
              "        const dataTable =\n",
              "          await google.colab.kernel.invokeFunction('convertToInteractive',\n",
              "                                                    [key], {});\n",
              "        if (!dataTable) return;\n",
              "\n",
              "        const docLinkHtml = 'Like what you see? Visit the ' +\n",
              "          '<a target=\"_blank\" href=https://colab.research.google.com/notebooks/data_table.ipynb>data table notebook</a>'\n",
              "          + ' to learn more about interactive tables.';\n",
              "        element.innerHTML = '';\n",
              "        dataTable['output_type'] = 'display_data';\n",
              "        await google.colab.output.renderOutput(dataTable, element);\n",
              "        const docLink = document.createElement('div');\n",
              "        docLink.innerHTML = docLinkHtml;\n",
              "        element.appendChild(docLink);\n",
              "      }\n",
              "    </script>\n",
              "  </div>\n",
              "\n",
              "\n",
              "    <div id=\"df-3fce98a9-b03f-4574-b09b-1bc7f2a813a0\">\n",
              "      <button class=\"colab-df-quickchart\" onclick=\"quickchart('df-3fce98a9-b03f-4574-b09b-1bc7f2a813a0')\"\n",
              "                title=\"Suggest charts\"\n",
              "                style=\"display:none;\">\n",
              "\n",
              "<svg xmlns=\"http://www.w3.org/2000/svg\" height=\"24px\"viewBox=\"0 0 24 24\"\n",
              "     width=\"24px\">\n",
              "    <g>\n",
              "        <path d=\"M19 3H5c-1.1 0-2 .9-2 2v14c0 1.1.9 2 2 2h14c1.1 0 2-.9 2-2V5c0-1.1-.9-2-2-2zM9 17H7v-7h2v7zm4 0h-2V7h2v10zm4 0h-2v-4h2v4z\"/>\n",
              "    </g>\n",
              "</svg>\n",
              "      </button>\n",
              "\n",
              "<style>\n",
              "  .colab-df-quickchart {\n",
              "      --bg-color: #E8F0FE;\n",
              "      --fill-color: #1967D2;\n",
              "      --hover-bg-color: #E2EBFA;\n",
              "      --hover-fill-color: #174EA6;\n",
              "      --disabled-fill-color: #AAA;\n",
              "      --disabled-bg-color: #DDD;\n",
              "  }\n",
              "\n",
              "  [theme=dark] .colab-df-quickchart {\n",
              "      --bg-color: #3B4455;\n",
              "      --fill-color: #D2E3FC;\n",
              "      --hover-bg-color: #434B5C;\n",
              "      --hover-fill-color: #FFFFFF;\n",
              "      --disabled-bg-color: #3B4455;\n",
              "      --disabled-fill-color: #666;\n",
              "  }\n",
              "\n",
              "  .colab-df-quickchart {\n",
              "    background-color: var(--bg-color);\n",
              "    border: none;\n",
              "    border-radius: 50%;\n",
              "    cursor: pointer;\n",
              "    display: none;\n",
              "    fill: var(--fill-color);\n",
              "    height: 32px;\n",
              "    padding: 0;\n",
              "    width: 32px;\n",
              "  }\n",
              "\n",
              "  .colab-df-quickchart:hover {\n",
              "    background-color: var(--hover-bg-color);\n",
              "    box-shadow: 0 1px 2px rgba(60, 64, 67, 0.3), 0 1px 3px 1px rgba(60, 64, 67, 0.15);\n",
              "    fill: var(--button-hover-fill-color);\n",
              "  }\n",
              "\n",
              "  .colab-df-quickchart-complete:disabled,\n",
              "  .colab-df-quickchart-complete:disabled:hover {\n",
              "    background-color: var(--disabled-bg-color);\n",
              "    fill: var(--disabled-fill-color);\n",
              "    box-shadow: none;\n",
              "  }\n",
              "\n",
              "  .colab-df-spinner {\n",
              "    border: 2px solid var(--fill-color);\n",
              "    border-color: transparent;\n",
              "    border-bottom-color: var(--fill-color);\n",
              "    animation:\n",
              "      spin 1s steps(1) infinite;\n",
              "  }\n",
              "\n",
              "  @keyframes spin {\n",
              "    0% {\n",
              "      border-color: transparent;\n",
              "      border-bottom-color: var(--fill-color);\n",
              "      border-left-color: var(--fill-color);\n",
              "    }\n",
              "    20% {\n",
              "      border-color: transparent;\n",
              "      border-left-color: var(--fill-color);\n",
              "      border-top-color: var(--fill-color);\n",
              "    }\n",
              "    30% {\n",
              "      border-color: transparent;\n",
              "      border-left-color: var(--fill-color);\n",
              "      border-top-color: var(--fill-color);\n",
              "      border-right-color: var(--fill-color);\n",
              "    }\n",
              "    40% {\n",
              "      border-color: transparent;\n",
              "      border-right-color: var(--fill-color);\n",
              "      border-top-color: var(--fill-color);\n",
              "    }\n",
              "    60% {\n",
              "      border-color: transparent;\n",
              "      border-right-color: var(--fill-color);\n",
              "    }\n",
              "    80% {\n",
              "      border-color: transparent;\n",
              "      border-right-color: var(--fill-color);\n",
              "      border-bottom-color: var(--fill-color);\n",
              "    }\n",
              "    90% {\n",
              "      border-color: transparent;\n",
              "      border-bottom-color: var(--fill-color);\n",
              "    }\n",
              "  }\n",
              "</style>\n",
              "\n",
              "      <script>\n",
              "        async function quickchart(key) {\n",
              "          const quickchartButtonEl =\n",
              "            document.querySelector('#' + key + ' button');\n",
              "          quickchartButtonEl.disabled = true;  // To prevent multiple clicks.\n",
              "          quickchartButtonEl.classList.add('colab-df-spinner');\n",
              "          try {\n",
              "            const charts = await google.colab.kernel.invokeFunction(\n",
              "                'suggestCharts', [key], {});\n",
              "          } catch (error) {\n",
              "            console.error('Error during call to suggestCharts:', error);\n",
              "          }\n",
              "          quickchartButtonEl.classList.remove('colab-df-spinner');\n",
              "          quickchartButtonEl.classList.add('colab-df-quickchart-complete');\n",
              "        }\n",
              "        (() => {\n",
              "          let quickchartButtonEl =\n",
              "            document.querySelector('#df-3fce98a9-b03f-4574-b09b-1bc7f2a813a0 button');\n",
              "          quickchartButtonEl.style.display =\n",
              "            google.colab.kernel.accessAllowed ? 'block' : 'none';\n",
              "        })();\n",
              "      </script>\n",
              "    </div>\n",
              "\n",
              "    </div>\n",
              "  </div>\n"
            ],
            "application/vnd.google.colaboratory.intrinsic+json": {
              "type": "dataframe",
              "variable_name": "df_sexo",
              "summary": "{\n  \"name\": \"df_sexo\",\n  \"rows\": 2,\n  \"fields\": [\n    {\n      \"column\": \"sexo\",\n      \"properties\": {\n        \"dtype\": \"category\",\n        \"num_unique_values\": 2,\n        \"samples\": [\n          \"Mujer\",\n          \"Hombre\"\n        ],\n        \"semantic_type\": \"\",\n        \"description\": \"\"\n      }\n    },\n    {\n      \"column\": \"poblacion_total_ex\",\n      \"properties\": {\n        \"dtype\": \"number\",\n        \"std\": 1009136.0112121237,\n        \"min\": 25255110.99999689,\n        \"max\": 26682244.833332162,\n        \"num_unique_values\": 2,\n        \"samples\": [\n          26682244.833332162,\n          25255110.99999689\n        ],\n        \"semantic_type\": \"\",\n        \"description\": \"\"\n      }\n    },\n    {\n      \"column\": \"ocupados_ex\",\n      \"properties\": {\n        \"dtype\": \"number\",\n        \"std\": 2891806.1209384967,\n        \"min\": 9707731.645012528,\n        \"max\": 13797363.08099728,\n        \"num_unique_values\": 2,\n        \"samples\": [\n          9707731.645012528,\n          13797363.08099728\n        ],\n        \"semantic_type\": \"\",\n        \"description\": \"\"\n      }\n    },\n    {\n      \"column\": \"porcentaje_ocupados\",\n      \"properties\": {\n        \"dtype\": \"number\",\n        \"std\": 0.12904150164492048,\n        \"min\": 0.3638273955452719,\n        \"max\": 0.5463196372805085,\n        \"num_unique_values\": 2,\n        \"samples\": [\n          0.3638273955452719,\n          0.5463196372805085\n        ],\n        \"semantic_type\": \"\",\n        \"description\": \"\"\n      }\n    }\n  ]\n}"
            }
          },
          "metadata": {},
          "execution_count": 44
        }
      ]
    },
    {
      "cell_type": "markdown",
      "source": [
        "3. En una celda de Markdown escribe qué conclusiones puedes sacar de la información obtenida en df_sexo y df_educacion."
      ],
      "metadata": {
        "id": "KuEjT1Jp3aFT"
      }
    },
    {
      "cell_type": "markdown",
      "source": [
        " análisis 1: de acuerdo a los datos se puede evidenciar una brecha de genero en el mercaod laboral, dado que el % de mujeres que a la semana trabajaron al menos una hora dentro del total de la población femenina es menor en un 19% al porcentaje de hombres ocupados. ello indicaría que hay necesidad de una politica pública que cierre estas brechas dado que la mayoría de la población en el pais es femenina y participa mucho menos en el mercado."
      ],
      "metadata": {
        "id": "BY6s7ETs3o4h"
      }
    },
    {
      "cell_type": "code",
      "source": [
        "df_educacion"
      ],
      "metadata": {
        "colab": {
          "base_uri": "https://localhost:8080/",
          "height": 331
        },
        "id": "qgaAaWpxZrmB",
        "outputId": "69ff0b2f-9ac5-4812-cbd2-ac1317ad0bd6"
      },
      "execution_count": 45,
      "outputs": [
        {
          "output_type": "execute_result",
          "data": {
            "text/plain": [
              "       nivel_educativo  poblacion_total_ex   ocupados_ex  porcentaje_ocupados\n",
              "0            Doctorado        4.664918e+04  3.995047e+04             0.856402\n",
              "1      Educación media        1.432753e+07  8.605758e+06             0.600645\n",
              "2      Especialización        9.652363e+05  7.777595e+05             0.805771\n",
              "3             Maestría        4.486660e+05  3.869646e+05             0.862478\n",
              "4              Ninguno        1.710908e+06  3.487339e+05             0.203830\n",
              "5  No sabe, no informa        9.477569e+01  3.760248e+01             0.396752\n",
              "6          Tecnológica        1.392853e+06  1.040970e+06             0.747365\n",
              "7  Técnica profesional        2.781981e+06  1.953369e+06             0.702150\n",
              "8        Universitaria        3.731910e+06  2.759725e+06             0.739494"
            ],
            "text/html": [
              "\n",
              "  <div id=\"df-f0ad981f-55c4-4b22-93dc-b6106680a1ab\" class=\"colab-df-container\">\n",
              "    <div>\n",
              "<style scoped>\n",
              "    .dataframe tbody tr th:only-of-type {\n",
              "        vertical-align: middle;\n",
              "    }\n",
              "\n",
              "    .dataframe tbody tr th {\n",
              "        vertical-align: top;\n",
              "    }\n",
              "\n",
              "    .dataframe thead th {\n",
              "        text-align: right;\n",
              "    }\n",
              "</style>\n",
              "<table border=\"1\" class=\"dataframe\">\n",
              "  <thead>\n",
              "    <tr style=\"text-align: right;\">\n",
              "      <th></th>\n",
              "      <th>nivel_educativo</th>\n",
              "      <th>poblacion_total_ex</th>\n",
              "      <th>ocupados_ex</th>\n",
              "      <th>porcentaje_ocupados</th>\n",
              "    </tr>\n",
              "  </thead>\n",
              "  <tbody>\n",
              "    <tr>\n",
              "      <th>0</th>\n",
              "      <td>Doctorado</td>\n",
              "      <td>4.664918e+04</td>\n",
              "      <td>3.995047e+04</td>\n",
              "      <td>0.856402</td>\n",
              "    </tr>\n",
              "    <tr>\n",
              "      <th>1</th>\n",
              "      <td>Educación media</td>\n",
              "      <td>1.432753e+07</td>\n",
              "      <td>8.605758e+06</td>\n",
              "      <td>0.600645</td>\n",
              "    </tr>\n",
              "    <tr>\n",
              "      <th>2</th>\n",
              "      <td>Especialización</td>\n",
              "      <td>9.652363e+05</td>\n",
              "      <td>7.777595e+05</td>\n",
              "      <td>0.805771</td>\n",
              "    </tr>\n",
              "    <tr>\n",
              "      <th>3</th>\n",
              "      <td>Maestría</td>\n",
              "      <td>4.486660e+05</td>\n",
              "      <td>3.869646e+05</td>\n",
              "      <td>0.862478</td>\n",
              "    </tr>\n",
              "    <tr>\n",
              "      <th>4</th>\n",
              "      <td>Ninguno</td>\n",
              "      <td>1.710908e+06</td>\n",
              "      <td>3.487339e+05</td>\n",
              "      <td>0.203830</td>\n",
              "    </tr>\n",
              "    <tr>\n",
              "      <th>5</th>\n",
              "      <td>No sabe, no informa</td>\n",
              "      <td>9.477569e+01</td>\n",
              "      <td>3.760248e+01</td>\n",
              "      <td>0.396752</td>\n",
              "    </tr>\n",
              "    <tr>\n",
              "      <th>6</th>\n",
              "      <td>Tecnológica</td>\n",
              "      <td>1.392853e+06</td>\n",
              "      <td>1.040970e+06</td>\n",
              "      <td>0.747365</td>\n",
              "    </tr>\n",
              "    <tr>\n",
              "      <th>7</th>\n",
              "      <td>Técnica profesional</td>\n",
              "      <td>2.781981e+06</td>\n",
              "      <td>1.953369e+06</td>\n",
              "      <td>0.702150</td>\n",
              "    </tr>\n",
              "    <tr>\n",
              "      <th>8</th>\n",
              "      <td>Universitaria</td>\n",
              "      <td>3.731910e+06</td>\n",
              "      <td>2.759725e+06</td>\n",
              "      <td>0.739494</td>\n",
              "    </tr>\n",
              "  </tbody>\n",
              "</table>\n",
              "</div>\n",
              "    <div class=\"colab-df-buttons\">\n",
              "\n",
              "  <div class=\"colab-df-container\">\n",
              "    <button class=\"colab-df-convert\" onclick=\"convertToInteractive('df-f0ad981f-55c4-4b22-93dc-b6106680a1ab')\"\n",
              "            title=\"Convert this dataframe to an interactive table.\"\n",
              "            style=\"display:none;\">\n",
              "\n",
              "  <svg xmlns=\"http://www.w3.org/2000/svg\" height=\"24px\" viewBox=\"0 -960 960 960\">\n",
              "    <path d=\"M120-120v-720h720v720H120Zm60-500h600v-160H180v160Zm220 220h160v-160H400v160Zm0 220h160v-160H400v160ZM180-400h160v-160H180v160Zm440 0h160v-160H620v160ZM180-180h160v-160H180v160Zm440 0h160v-160H620v160Z\"/>\n",
              "  </svg>\n",
              "    </button>\n",
              "\n",
              "  <style>\n",
              "    .colab-df-container {\n",
              "      display:flex;\n",
              "      gap: 12px;\n",
              "    }\n",
              "\n",
              "    .colab-df-convert {\n",
              "      background-color: #E8F0FE;\n",
              "      border: none;\n",
              "      border-radius: 50%;\n",
              "      cursor: pointer;\n",
              "      display: none;\n",
              "      fill: #1967D2;\n",
              "      height: 32px;\n",
              "      padding: 0 0 0 0;\n",
              "      width: 32px;\n",
              "    }\n",
              "\n",
              "    .colab-df-convert:hover {\n",
              "      background-color: #E2EBFA;\n",
              "      box-shadow: 0px 1px 2px rgba(60, 64, 67, 0.3), 0px 1px 3px 1px rgba(60, 64, 67, 0.15);\n",
              "      fill: #174EA6;\n",
              "    }\n",
              "\n",
              "    .colab-df-buttons div {\n",
              "      margin-bottom: 4px;\n",
              "    }\n",
              "\n",
              "    [theme=dark] .colab-df-convert {\n",
              "      background-color: #3B4455;\n",
              "      fill: #D2E3FC;\n",
              "    }\n",
              "\n",
              "    [theme=dark] .colab-df-convert:hover {\n",
              "      background-color: #434B5C;\n",
              "      box-shadow: 0px 1px 3px 1px rgba(0, 0, 0, 0.15);\n",
              "      filter: drop-shadow(0px 1px 2px rgba(0, 0, 0, 0.3));\n",
              "      fill: #FFFFFF;\n",
              "    }\n",
              "  </style>\n",
              "\n",
              "    <script>\n",
              "      const buttonEl =\n",
              "        document.querySelector('#df-f0ad981f-55c4-4b22-93dc-b6106680a1ab button.colab-df-convert');\n",
              "      buttonEl.style.display =\n",
              "        google.colab.kernel.accessAllowed ? 'block' : 'none';\n",
              "\n",
              "      async function convertToInteractive(key) {\n",
              "        const element = document.querySelector('#df-f0ad981f-55c4-4b22-93dc-b6106680a1ab');\n",
              "        const dataTable =\n",
              "          await google.colab.kernel.invokeFunction('convertToInteractive',\n",
              "                                                    [key], {});\n",
              "        if (!dataTable) return;\n",
              "\n",
              "        const docLinkHtml = 'Like what you see? Visit the ' +\n",
              "          '<a target=\"_blank\" href=https://colab.research.google.com/notebooks/data_table.ipynb>data table notebook</a>'\n",
              "          + ' to learn more about interactive tables.';\n",
              "        element.innerHTML = '';\n",
              "        dataTable['output_type'] = 'display_data';\n",
              "        await google.colab.output.renderOutput(dataTable, element);\n",
              "        const docLink = document.createElement('div');\n",
              "        docLink.innerHTML = docLinkHtml;\n",
              "        element.appendChild(docLink);\n",
              "      }\n",
              "    </script>\n",
              "  </div>\n",
              "\n",
              "\n",
              "    <div id=\"df-8b7f90d3-3b02-4318-8f07-2067682fc327\">\n",
              "      <button class=\"colab-df-quickchart\" onclick=\"quickchart('df-8b7f90d3-3b02-4318-8f07-2067682fc327')\"\n",
              "                title=\"Suggest charts\"\n",
              "                style=\"display:none;\">\n",
              "\n",
              "<svg xmlns=\"http://www.w3.org/2000/svg\" height=\"24px\"viewBox=\"0 0 24 24\"\n",
              "     width=\"24px\">\n",
              "    <g>\n",
              "        <path d=\"M19 3H5c-1.1 0-2 .9-2 2v14c0 1.1.9 2 2 2h14c1.1 0 2-.9 2-2V5c0-1.1-.9-2-2-2zM9 17H7v-7h2v7zm4 0h-2V7h2v10zm4 0h-2v-4h2v4z\"/>\n",
              "    </g>\n",
              "</svg>\n",
              "      </button>\n",
              "\n",
              "<style>\n",
              "  .colab-df-quickchart {\n",
              "      --bg-color: #E8F0FE;\n",
              "      --fill-color: #1967D2;\n",
              "      --hover-bg-color: #E2EBFA;\n",
              "      --hover-fill-color: #174EA6;\n",
              "      --disabled-fill-color: #AAA;\n",
              "      --disabled-bg-color: #DDD;\n",
              "  }\n",
              "\n",
              "  [theme=dark] .colab-df-quickchart {\n",
              "      --bg-color: #3B4455;\n",
              "      --fill-color: #D2E3FC;\n",
              "      --hover-bg-color: #434B5C;\n",
              "      --hover-fill-color: #FFFFFF;\n",
              "      --disabled-bg-color: #3B4455;\n",
              "      --disabled-fill-color: #666;\n",
              "  }\n",
              "\n",
              "  .colab-df-quickchart {\n",
              "    background-color: var(--bg-color);\n",
              "    border: none;\n",
              "    border-radius: 50%;\n",
              "    cursor: pointer;\n",
              "    display: none;\n",
              "    fill: var(--fill-color);\n",
              "    height: 32px;\n",
              "    padding: 0;\n",
              "    width: 32px;\n",
              "  }\n",
              "\n",
              "  .colab-df-quickchart:hover {\n",
              "    background-color: var(--hover-bg-color);\n",
              "    box-shadow: 0 1px 2px rgba(60, 64, 67, 0.3), 0 1px 3px 1px rgba(60, 64, 67, 0.15);\n",
              "    fill: var(--button-hover-fill-color);\n",
              "  }\n",
              "\n",
              "  .colab-df-quickchart-complete:disabled,\n",
              "  .colab-df-quickchart-complete:disabled:hover {\n",
              "    background-color: var(--disabled-bg-color);\n",
              "    fill: var(--disabled-fill-color);\n",
              "    box-shadow: none;\n",
              "  }\n",
              "\n",
              "  .colab-df-spinner {\n",
              "    border: 2px solid var(--fill-color);\n",
              "    border-color: transparent;\n",
              "    border-bottom-color: var(--fill-color);\n",
              "    animation:\n",
              "      spin 1s steps(1) infinite;\n",
              "  }\n",
              "\n",
              "  @keyframes spin {\n",
              "    0% {\n",
              "      border-color: transparent;\n",
              "      border-bottom-color: var(--fill-color);\n",
              "      border-left-color: var(--fill-color);\n",
              "    }\n",
              "    20% {\n",
              "      border-color: transparent;\n",
              "      border-left-color: var(--fill-color);\n",
              "      border-top-color: var(--fill-color);\n",
              "    }\n",
              "    30% {\n",
              "      border-color: transparent;\n",
              "      border-left-color: var(--fill-color);\n",
              "      border-top-color: var(--fill-color);\n",
              "      border-right-color: var(--fill-color);\n",
              "    }\n",
              "    40% {\n",
              "      border-color: transparent;\n",
              "      border-right-color: var(--fill-color);\n",
              "      border-top-color: var(--fill-color);\n",
              "    }\n",
              "    60% {\n",
              "      border-color: transparent;\n",
              "      border-right-color: var(--fill-color);\n",
              "    }\n",
              "    80% {\n",
              "      border-color: transparent;\n",
              "      border-right-color: var(--fill-color);\n",
              "      border-bottom-color: var(--fill-color);\n",
              "    }\n",
              "    90% {\n",
              "      border-color: transparent;\n",
              "      border-bottom-color: var(--fill-color);\n",
              "    }\n",
              "  }\n",
              "</style>\n",
              "\n",
              "      <script>\n",
              "        async function quickchart(key) {\n",
              "          const quickchartButtonEl =\n",
              "            document.querySelector('#' + key + ' button');\n",
              "          quickchartButtonEl.disabled = true;  // To prevent multiple clicks.\n",
              "          quickchartButtonEl.classList.add('colab-df-spinner');\n",
              "          try {\n",
              "            const charts = await google.colab.kernel.invokeFunction(\n",
              "                'suggestCharts', [key], {});\n",
              "          } catch (error) {\n",
              "            console.error('Error during call to suggestCharts:', error);\n",
              "          }\n",
              "          quickchartButtonEl.classList.remove('colab-df-spinner');\n",
              "          quickchartButtonEl.classList.add('colab-df-quickchart-complete');\n",
              "        }\n",
              "        (() => {\n",
              "          let quickchartButtonEl =\n",
              "            document.querySelector('#df-8b7f90d3-3b02-4318-8f07-2067682fc327 button');\n",
              "          quickchartButtonEl.style.display =\n",
              "            google.colab.kernel.accessAllowed ? 'block' : 'none';\n",
              "        })();\n",
              "      </script>\n",
              "    </div>\n",
              "\n",
              "  <div id=\"id_69f43dbc-1528-4e40-9c7d-e96100cdc39a\">\n",
              "    <style>\n",
              "      .colab-df-generate {\n",
              "        background-color: #E8F0FE;\n",
              "        border: none;\n",
              "        border-radius: 50%;\n",
              "        cursor: pointer;\n",
              "        display: none;\n",
              "        fill: #1967D2;\n",
              "        height: 32px;\n",
              "        padding: 0 0 0 0;\n",
              "        width: 32px;\n",
              "      }\n",
              "\n",
              "      .colab-df-generate:hover {\n",
              "        background-color: #E2EBFA;\n",
              "        box-shadow: 0px 1px 2px rgba(60, 64, 67, 0.3), 0px 1px 3px 1px rgba(60, 64, 67, 0.15);\n",
              "        fill: #174EA6;\n",
              "      }\n",
              "\n",
              "      [theme=dark] .colab-df-generate {\n",
              "        background-color: #3B4455;\n",
              "        fill: #D2E3FC;\n",
              "      }\n",
              "\n",
              "      [theme=dark] .colab-df-generate:hover {\n",
              "        background-color: #434B5C;\n",
              "        box-shadow: 0px 1px 3px 1px rgba(0, 0, 0, 0.15);\n",
              "        filter: drop-shadow(0px 1px 2px rgba(0, 0, 0, 0.3));\n",
              "        fill: #FFFFFF;\n",
              "      }\n",
              "    </style>\n",
              "    <button class=\"colab-df-generate\" onclick=\"generateWithVariable('df_educacion')\"\n",
              "            title=\"Generate code using this dataframe.\"\n",
              "            style=\"display:none;\">\n",
              "\n",
              "  <svg xmlns=\"http://www.w3.org/2000/svg\" height=\"24px\"viewBox=\"0 0 24 24\"\n",
              "       width=\"24px\">\n",
              "    <path d=\"M7,19H8.4L18.45,9,17,7.55,7,17.6ZM5,21V16.75L18.45,3.32a2,2,0,0,1,2.83,0l1.4,1.43a1.91,1.91,0,0,1,.58,1.4,1.91,1.91,0,0,1-.58,1.4L9.25,21ZM18.45,9,17,7.55Zm-12,3A5.31,5.31,0,0,0,4.9,8.1,5.31,5.31,0,0,0,1,6.5,5.31,5.31,0,0,0,4.9,4.9,5.31,5.31,0,0,0,6.5,1,5.31,5.31,0,0,0,8.1,4.9,5.31,5.31,0,0,0,12,6.5,5.46,5.46,0,0,0,6.5,12Z\"/>\n",
              "  </svg>\n",
              "    </button>\n",
              "    <script>\n",
              "      (() => {\n",
              "      const buttonEl =\n",
              "        document.querySelector('#id_69f43dbc-1528-4e40-9c7d-e96100cdc39a button.colab-df-generate');\n",
              "      buttonEl.style.display =\n",
              "        google.colab.kernel.accessAllowed ? 'block' : 'none';\n",
              "\n",
              "      buttonEl.onclick = () => {\n",
              "        google.colab.notebook.generateWithVariable('df_educacion');\n",
              "      }\n",
              "      })();\n",
              "    </script>\n",
              "  </div>\n",
              "\n",
              "    </div>\n",
              "  </div>\n"
            ],
            "application/vnd.google.colaboratory.intrinsic+json": {
              "type": "dataframe",
              "variable_name": "df_educacion",
              "summary": "{\n  \"name\": \"df_educacion\",\n  \"rows\": 9,\n  \"fields\": [\n    {\n      \"column\": \"nivel_educativo\",\n      \"properties\": {\n        \"dtype\": \"category\",\n        \"num_unique_values\": 9,\n        \"samples\": [\n          \"T\\u00e9cnica profesional\",\n          \"Educaci\\u00f3n media\",\n          \"No sabe, no informa\"\n        ],\n        \"semantic_type\": \"\",\n        \"description\": \"\"\n      }\n    },\n    {\n      \"column\": \"poblacion_total_ex\",\n      \"properties\": {\n        \"dtype\": \"number\",\n        \"std\": 4489287.696819018,\n        \"min\": 94.775693175,\n        \"max\": 14327525.059869504,\n        \"num_unique_values\": 9,\n        \"samples\": [\n          2781981.3319584825,\n          14327525.059869504,\n          94.775693175\n        ],\n        \"semantic_type\": \"\",\n        \"description\": \"\"\n      }\n    },\n    {\n      \"column\": \"ocupados_ex\",\n      \"properties\": {\n        \"dtype\": \"number\",\n        \"std\": 2722943.8071707156,\n        \"min\": 37.60247806833333,\n        \"max\": 8605757.920390284,\n        \"num_unique_values\": 9,\n        \"samples\": [\n          1953369.0214165212,\n          8605757.920390284,\n          37.60247806833333\n        ],\n        \"semantic_type\": \"\",\n        \"description\": \"\"\n      }\n    },\n    {\n      \"column\": \"porcentaje_ocupados\",\n      \"properties\": {\n        \"dtype\": \"number\",\n        \"std\": 0.22287681948056814,\n        \"min\": 0.20382970236642675,\n        \"max\": 0.8624779831280508,\n        \"num_unique_values\": 9,\n        \"samples\": [\n          0.7021502980544345,\n          0.6006451138232151,\n          0.39675234027464906\n        ],\n        \"semantic_type\": \"\",\n        \"description\": \"\"\n      }\n    }\n  ]\n}"
            }
          },
          "metadata": {},
          "execution_count": 45
        }
      ]
    },
    {
      "cell_type": "markdown",
      "source": [
        "análisis 2:podría interpretarse que hay grandes necesidades en materia de educación en el pais porque en terminos sociales hay un 40% de la población con educación media sin trabajo al rededor de 573101002 personas desocupadas, mientras que niveles como la universidad, o la tecnológica que además siendo una población menor tienen más % de ocupación, es decir, hay una concentración de mano de obra no calificada en la educación media que no logra econtrar trabajo mientras hay mayres oportunidades al tener un nivel educativo más alto y un mercado menos saturado. Ello es un indicador de a dónde debe ir la política pública."
      ],
      "metadata": {
        "id": "yj2j8nl7aMgM"
      }
    },
    {
      "cell_type": "markdown",
      "source": [],
      "metadata": {
        "id": "NXfQyHDLZsof"
      }
    },
    {
      "cell_type": "code",
      "source": [
        "# Celda de verificación (no modificar)\n",
        "print(\"\\n¡Punto 9 completado con éxito! ✅\")"
      ],
      "metadata": {
        "id": "FCIU3wuCju-M",
        "colab": {
          "base_uri": "https://localhost:8080/"
        },
        "outputId": "924cad2d-54c7-4c04-da2f-99cccd3026e8"
      },
      "execution_count": 46,
      "outputs": [
        {
          "output_type": "stream",
          "name": "stdout",
          "text": [
            "\n",
            "¡Punto 9 completado con éxito! ✅\n"
          ]
        }
      ]
    },
    {
      "cell_type": "markdown",
      "source": [
        "# Ejercicio 10: Exportar datos (5%)"
      ],
      "metadata": {
        "id": "-GXuUA5UxKDF"
      }
    },
    {
      "cell_type": "markdown",
      "source": [
        "Muchas veces requerimos exportar los resultados de nuestros análisis a Excel para compartir la información con otras personas."
      ],
      "metadata": {
        "id": "Q54IBwLT72mm"
      }
    },
    {
      "cell_type": "markdown",
      "source": [
        "Exporta los dataframes df_sexo y df_educacion a un Excel llamado 'Analisis_ocupados.xlsx'. Cada dataframe debe quedar en una hoja diferente. La hoja de 'df_sexo' se debe llamar 'sexo' y la hoja de 'df_educacion' se debe llamar 'educacion'."
      ],
      "metadata": {
        "id": "Ka546tVp3ulL"
      }
    },
    {
      "cell_type": "code",
      "source": [
        "### TU CÓDIGO AQUÍ ###\n",
        "with pd.ExcelWriter('/content/drive/MyDrive/geih_2025/Analisis_ocupados.xlsx') as writer:\n",
        "    df_sexo.to_excel(writer, sheet_name='sexo', index=False)\n",
        "    df_educacion.to_excel(writer, sheet_name='educacion', index=False)\n"
      ],
      "metadata": {
        "id": "H08btaRixUaT"
      },
      "execution_count": 57,
      "outputs": []
    },
    {
      "cell_type": "code",
      "source": [
        "# Celda de verificación (no modificar)\n",
        "import os\n",
        "import pandas as pd\n",
        "nombre_archivo = 'Analisis_ocupados.xlsx'\n",
        "assert os.path.exists(nombre_archivo), \\\n",
        "    f\"No se encontró el archivo '{nombre_archivo}'. ¿Lo exportaste con el nombre correcto?\"\n",
        "try:\n",
        "    xls = pd.ExcelFile(nombre_archivo)\n",
        "    nombres_hojas_encontrados = xls.sheet_names\n",
        "    nombres_hojas_esperados = ['sexo', 'educacion']\n",
        "    assert set(nombres_hojas_encontrados) == set(nombres_hojas_esperados), \\\n",
        "        f\"Los nombres de las hojas no son correctos. Se esperaban {nombres_hojas_esperados} pero se encontraron {nombres_hojas_encontrados}.\"\n",
        "    print(\"¡Verificación completada con éxito! ✅\")\n",
        "except Exception as e:\n",
        "    print(f\"Ocurrió un error al verificar el archivo: {e}\")\n",
        "print(\"\\n¡Punto 10 completado con éxito! ✅\")"
      ],
      "metadata": {
        "id": "LE9x_SUxDfr6",
        "colab": {
          "base_uri": "https://localhost:8080/"
        },
        "outputId": "0dcf4774-2162-47c5-938d-4b8a60dc4706"
      },
      "execution_count": 58,
      "outputs": [
        {
          "output_type": "stream",
          "name": "stdout",
          "text": [
            "¡Verificación completada con éxito! ✅\n",
            "\n",
            "¡Punto 10 completado con éxito! ✅\n"
          ]
        }
      ]
    }
  ],
  "metadata": {
    "colab": {
      "provenance": [],
      "include_colab_link": true
    },
    "kernelspec": {
      "display_name": "myenv",
      "language": "python",
      "name": "python3"
    },
    "language_info": {
      "codemirror_mode": {
        "name": "ipython",
        "version": 3
      },
      "file_extension": ".py",
      "mimetype": "text/x-python",
      "name": "python",
      "nbconvert_exporter": "python",
      "pygments_lexer": "ipython3",
      "version": "3.11.1"
    },
    "orig_nbformat": 4
  },
  "nbformat": 4,
  "nbformat_minor": 0
}