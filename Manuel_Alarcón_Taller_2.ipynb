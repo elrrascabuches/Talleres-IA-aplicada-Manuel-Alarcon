{
  "cells": [
    {
      "cell_type": "markdown",
      "metadata": {
        "id": "4A_GfFHIq-AW"
      },
      "source": [
        "# **UNIVERSIDAD EXTERNADO DE COLOMBIA**\n",
        "\n"
      ]
    },
    {
      "cell_type": "markdown",
      "metadata": {
        "id": "Fz8j9lH0rY7M"
      },
      "source": [
        "# **INTELIGENCIA ARTIFICIAL CON APLICACIONES EN ECONOMÍA I**"
      ]
    },
    {
      "cell_type": "markdown",
      "metadata": {
        "id": "CHbZ88pIrZvm"
      },
      "source": [
        "# **TALLER CONDICIONALES, BUCLES Y FUNCIONES**"
      ]
    },
    {
      "cell_type": "markdown",
      "metadata": {
        "id": "5P1oYNQHrgfw"
      },
      "source": [
        "Docente: Lina María Castro\n",
        "\n",
        "28 de agosto de 2025\n"
      ]
    },
    {
      "cell_type": "markdown",
      "metadata": {
        "id": "sKBuSOD4tZDu"
      },
      "source": [
        "- Plazo máximo de entrega: jueves, 4 de septiembre de 2025 antes de las 11:59 p.m.\n",
        "\n",
        "-\tForma de entrega: Jupyter Notebook publicado en su cuenta de Github con el nombre “Taller_condicionales_bucles_funciones.ipynb”. Ser ordenado: debe aparecer el número del ejercicio, el código y el resultado del código. Enviar link del notebook al correo lmcastroco@gmail.com antes del plazo máximo de entrega, de lo contrario, no será tenido en cuenta.\n",
        "\n",
        "- En el caso de las funciones, no olvides colocar la documentacióne/explicación.\n"
      ]
    },
    {
      "cell_type": "markdown",
      "metadata": {
        "id": "5hmIxbJWcya9"
      },
      "source": [
        "## **Ejercicio 1**"
      ]
    },
    {
      "cell_type": "markdown",
      "metadata": {
        "id": "O5qhW3NTvG0W"
      },
      "source": [
        "Escribe un programa que pida la inflación y muestre el porcentaje de aumento salarial aprobado teniendo en cuenta las siguientes condiciones:\n",
        "\n",
        "- Si la inflación es mayor al 10%, el gobierno aprueba un aumento salarial del 12%.\n",
        "\n",
        "- Si la inflación está entre 6% y 10%, el aumento es del 8%.\n",
        "\n",
        "- Si es menor al 6%, el aumento es del 5%."
      ]
    },
    {
      "cell_type": "code",
      "execution_count": null,
      "metadata": {
        "colab": {
          "base_uri": "https://localhost:8080/"
        },
        "id": "BYeg_UmYvM1b",
        "outputId": "511739fa-45f4-431a-d65b-cd7111516c9e"
      },
      "outputs": [
        {
          "output_type": "stream",
          "name": "stdout",
          "text": [
            "Ingrese la inflación en decimales: 4.0\n",
            "El gobierno aprueba un aumento salarial del 5%\n"
          ]
        }
      ],
      "source": [
        "inflacion = float(input(\"Ingrese la inflación en decimales: \"))\n",
        "if inflacion > 10:\n",
        " print(\"El gobierno aprueba un aumento salarial del 12%\")\n",
        "elif inflacion >= 6 and inflacion <= 10:\n",
        " print(\"El gobierno aprueba un aumento salarial del8%\")\n",
        "else:\n",
        " print(\"El gobierno aprueba un aumento salarial del 5%\")\n"
      ]
    },
    {
      "cell_type": "markdown",
      "metadata": {
        "id": "YyVVr95xdXJp"
      },
      "source": [
        "## **Ejercicio 2**"
      ]
    },
    {
      "cell_type": "markdown",
      "metadata": {
        "id": "wS3C-5scsUcB"
      },
      "source": [
        "Tienes una lista con el número de empresas registradas en diferentes ciudades. Usa un ciclo for para contar cuántas ciudades tienen más de 100 empresas y muestra el resultado en pantalla como: \"Número de ciudades con más de 100 empresas: X\""
      ]
    },
    {
      "cell_type": "code",
      "execution_count": null,
      "metadata": {
        "id": "R37wEVbcsW6A"
      },
      "outputs": [],
      "source": [
        "empresas = [120, 85, 340, 210, 95]"
      ]
    },
    {
      "cell_type": "code",
      "execution_count": null,
      "metadata": {
        "colab": {
          "base_uri": "https://localhost:8080/"
        },
        "id": "uTrbrdrw5-UO",
        "outputId": "b142f774-16ea-4508-93d9-ec2e95e411e3"
      },
      "outputs": [
        {
          "output_type": "stream",
          "name": "stdout",
          "text": [
            "Número de ciudades con más de 100 empresas:3\n"
          ]
        }
      ],
      "source": [
        "numero_ciudades_con_más_de_100_empresas=0\n",
        "\n",
        "for e in empresas:\n",
        "  if e > 100:\n",
        "    numero_ciudades_con_más_de_100_empresas += 1\n",
        "print(f\"Número de ciudades con más de 100 empresas:{numero_ciudades_con_más_de_100_empresas}\")"
      ]
    },
    {
      "cell_type": "markdown",
      "metadata": {
        "id": "dP59USPQdaoU"
      },
      "source": [
        "## **Ejercicio 3**"
      ]
    },
    {
      "cell_type": "code",
      "source": [],
      "metadata": {
        "id": "MnZv-osGcefp"
      },
      "execution_count": null,
      "outputs": []
    },
    {
      "cell_type": "markdown",
      "metadata": {
        "id": "ASHwOJt3nheQ"
      },
      "source": [
        "Escribe un programa que imprima todos los múltiplos de 5 entre 1 y 50, utilizando range()."
      ]
    },
    {
      "cell_type": "code",
      "execution_count": null,
      "metadata": {
        "colab": {
          "base_uri": "https://localhost:8080/"
        },
        "id": "P7vEcQqpntGN",
        "outputId": "a3c9a600-d384-456a-a436-226fafe5ab8a"
      },
      "outputs": [
        {
          "output_type": "stream",
          "name": "stdout",
          "text": [
            "5\n",
            "10\n",
            "15\n",
            "20\n",
            "25\n",
            "30\n",
            "35\n",
            "40\n",
            "45\n",
            "50\n"
          ]
        }
      ],
      "source": [
        "multiplos = []  # lista vacía\n",
        "\n",
        "for i in range(0, 51, 5):\n",
        "    multiplos.append(i)\n",
        "for m in multiplos[1:]:\n",
        "  print(m)\n"
      ]
    },
    {
      "cell_type": "markdown",
      "metadata": {
        "id": "oPcumFlidsGv"
      },
      "source": [
        "## **Ejercicio 4**"
      ]
    },
    {
      "cell_type": "markdown",
      "metadata": {
        "id": "5wvJv2GPt6Qf"
      },
      "source": [
        "Un cajero automático tiene 500.000 pesos disponibles.\n",
        "Un usuario puede retirar varias veces, pero no puede retirar más de lo que queda en el cajero. Escribe un programa que:\n",
        "\n",
        "- Pregunte cuánto quiere retirar.\n",
        "\n",
        "- Reste ese valor al saldo.\n",
        "\n",
        "- Termine cuando el saldo llegue a 0 o el usuario escriba 0."
      ]
    },
    {
      "cell_type": "code",
      "execution_count": null,
      "metadata": {
        "colab": {
          "base_uri": "https://localhost:8080/"
        },
        "id": "BJDxIqocuEz3",
        "outputId": "5955d44f-80b5-4cea-985c-6dad988d016c"
      },
      "outputs": [
        {
          "name": "stdout",
          "output_type": "stream",
          "text": [
            "Ingrese el valor a retirar: 0\n"
          ]
        }
      ],
      "source": [
        "valor_a_retirar= float(input(\"Ingrese el valor a retirar: \"))\n",
        "saldo= 500000\n",
        "while saldo > 0:\n",
        "  if valor_a_retirar < saldo and valor_a_retirar!=0:\n",
        "     saldo -= valor_a_retirar\n",
        "     print(saldo)\n",
        "     break\n",
        "  elif valor_a_retirar==0:\n",
        "    break"
      ]
    },
    {
      "cell_type": "markdown",
      "metadata": {
        "id": "uAz_wjs2gs7c"
      },
      "source": [
        "## **Ejercicio 5**"
      ]
    },
    {
      "cell_type": "markdown",
      "metadata": {
        "id": "3L7NHs7hSLKE"
      },
      "source": [
        "Crea una función raiz_cuadrada(num) que calcule la raíz cuadrada de un número.\n",
        "\n",
        "Si el número es negativo, devuelve: \"Error: no se puede calcular la raíz cuadrada de un número negativo.\"\n",
        "\n",
        "Si el valor no es numérico, devuelve: \"Error: el valor debe ser numérico.\"\n",
        "\n",
        "NOTA: utiliza import math y la función math.sqrt(num)"
      ]
    },
    {
      "cell_type": "code",
      "execution_count": null,
      "metadata": {
        "id": "-fh0PUPbSNvl"
      },
      "outputs": [],
      "source": [
        "import math\n",
        "\n",
        "def raiz_cuadrada(num):\n",
        "  \"\"\"\n",
        "  entrega la raíz cuadrada de un número\n",
        "  \"\"\"\n",
        "  try:\n",
        "    math.sqrt(num)\n",
        "    return math.sqrt(num)\n",
        "  except ValueError:\n",
        "    return \"Error: no se puede calcular la raíz cuadrada de un número negativo.\"\n",
        "  except TypeError:\n",
        "    return \"Error: el valor debe ser numérico.\"\n"
      ]
    },
    {
      "cell_type": "code",
      "execution_count": null,
      "metadata": {
        "id": "lMXQSzyESOHF",
        "colab": {
          "base_uri": "https://localhost:8080/"
        },
        "outputId": "3665a7ce-8847-4dcd-bde7-5073fe7b8bd3"
      },
      "outputs": [
        {
          "output_type": "stream",
          "name": "stdout",
          "text": [
            "4.0\n"
          ]
        }
      ],
      "source": [
        "print(raiz_cuadrada(16))    # 4.0"
      ]
    },
    {
      "cell_type": "code",
      "execution_count": null,
      "metadata": {
        "id": "uXkpBQrNSQi_",
        "colab": {
          "base_uri": "https://localhost:8080/"
        },
        "outputId": "e65292ee-dd11-4b62-bdb3-f974d0216f44"
      },
      "outputs": [
        {
          "output_type": "stream",
          "name": "stdout",
          "text": [
            "Error: no se puede calcular la raíz cuadrada de un número negativo.\n"
          ]
        }
      ],
      "source": [
        "print(raiz_cuadrada(-9))    # Error: no se puede calcular la raíz cuadrada de un número negativo."
      ]
    },
    {
      "cell_type": "code",
      "execution_count": null,
      "metadata": {
        "id": "i-0qVNphSTuf",
        "colab": {
          "base_uri": "https://localhost:8080/"
        },
        "outputId": "2a5c9d65-c773-40b0-96fe-0219fc5d40b8"
      },
      "outputs": [
        {
          "output_type": "stream",
          "name": "stdout",
          "text": [
            "Error: el valor debe ser numérico.\n"
          ]
        }
      ],
      "source": [
        "print(raiz_cuadrada(\"abc\")) # Error: el valor debe ser numérico."
      ]
    },
    {
      "cell_type": "markdown",
      "metadata": {
        "id": "dOjMrj-9pfwA"
      },
      "source": [
        "## **Ejercicio 6**"
      ]
    },
    {
      "cell_type": "markdown",
      "metadata": {
        "id": "voXscZI7TPRp"
      },
      "source": [
        "Escribe una función llamada es_par que reciba un número entero como parámetro y retorne True si el número es par y False si es impar.\n",
        "\n",
        "NOTA: % es el operador módulo en Python. Lo que hace es dividir un número entre otro y devolver el residuo (lo que sobra de la división entera).\n",
        "\n",
        "Si al dividir un número en 2, el residuo es cero, entonces el número es par, de lo contrario, es impar."
      ]
    },
    {
      "cell_type": "code",
      "execution_count": null,
      "metadata": {
        "id": "q55DMdeZTS-B"
      },
      "outputs": [],
      "source": [
        "# Para verificar que es par: numero % 2 == 0\n",
        "def es_par(numero):\n",
        "  \"\"\"\n",
        "  verifica si un número es par o impar\n",
        "  \"\"\"\n",
        "  if numero % 2 == 0:\n",
        "    return True\n",
        "  else:\n",
        "    return False"
      ]
    },
    {
      "cell_type": "code",
      "execution_count": null,
      "metadata": {
        "id": "BVx7hr_nTWv9",
        "colab": {
          "base_uri": "https://localhost:8080/"
        },
        "outputId": "341b1071-d2db-48c8-dac9-35a944e42dc4"
      },
      "outputs": [
        {
          "output_type": "stream",
          "name": "stdout",
          "text": [
            "True\n"
          ]
        }
      ],
      "source": [
        "print(es_par(10))   # Debería imprimir True"
      ]
    },
    {
      "cell_type": "code",
      "execution_count": null,
      "metadata": {
        "id": "EX38wbcdTTR0",
        "colab": {
          "base_uri": "https://localhost:8080/"
        },
        "outputId": "8ec43cbc-e1b1-4e4a-b0c5-9bf64bbb8665"
      },
      "outputs": [
        {
          "output_type": "stream",
          "name": "stdout",
          "text": [
            "False\n"
          ]
        }
      ],
      "source": [
        "print(es_par(7))    # Debería imprimir False"
      ]
    },
    {
      "cell_type": "markdown",
      "metadata": {
        "id": "IcNuG-Cggw47"
      },
      "source": [
        "## **Ejercicio 7**"
      ]
    },
    {
      "cell_type": "markdown",
      "metadata": {
        "id": "yJ-RPbINSAu6"
      },
      "source": [
        "Escribe un código que permita al usuario crear una contraseña y que verifique que esta cumpla todas las siguientes condiciones:\n",
        "\n",
        "- Tiene al menos 8 caracteres.\n",
        "\n",
        "- Contiene al menos una letra mayúscula.\n",
        "\n",
        "- Contiene al menos una letra minúscula.\n",
        "\n",
        "- Contiene al menos un número.\n",
        "\n",
        "Si cumple todas las condiciones, muestra \"Contraseña válida\", de lo contrario, explica qué condición no se cumple."
      ]
    },
    {
      "cell_type": "code",
      "execution_count": null,
      "metadata": {
        "id": "306D2pg7SAF-",
        "colab": {
          "base_uri": "https://localhost:8080/"
        },
        "outputId": "bf83f568-6f61-47bd-d05a-589a978e47a0"
      },
      "outputs": [
        {
          "output_type": "stream",
          "name": "stdout",
          "text": [
            "Ingrese su contraseña: 45\n",
            "La contraseña debe contener al menos una mayúscula, una minúscula y un número.\n"
          ]
        }
      ],
      "source": [
        "def password(contrasena):\n",
        "    \"\"\"\n",
        "    Verifica si una contraseña cumple con los requisitos:\n",
        "    al menos una mayúscula, una minúscula y un número.\n",
        "    \"\"\"\n",
        "\n",
        "    tiene_mayuscula = 0\n",
        "    tiene_minuscula = 0\n",
        "    tiene_numero = 0\n",
        "\n",
        "    for caracter in contrasena:\n",
        "        if caracter.isupper():\n",
        "            tiene_mayuscula = 1\n",
        "        elif caracter.islower():\n",
        "            tiene_minuscula = 1\n",
        "        elif caracter.isdigit():\n",
        "            tiene_numero = 1\n",
        "\n",
        "\n",
        "    return tiene_mayuscula == tiene_minuscula == tiene_numero\n",
        "\n",
        "contrasena_usuario = input(\"Ingrese su contraseña: \")\n",
        "\n",
        "if password(contrasena_usuario):\n",
        "    print(\"¡La contraseña es válida!\")\n",
        "else:\n",
        "    print(\"La contraseña debe contener al menos una mayúscula, una minúscula y un número.\")\n",
        "\n"
      ]
    },
    {
      "cell_type": "markdown",
      "metadata": {
        "id": "vdgQ-4Atv7TZ"
      },
      "source": [
        "## **Ejercicio 8**"
      ]
    },
    {
      "cell_type": "markdown",
      "metadata": {
        "id": "qZ5desSUv_Z9"
      },
      "source": [
        "Crea una función llamada \"extraer_dominio\" que extraiga el dominio de una página web a partir de una cadena que contenga un email de la siguiente forma:\n",
        "\n",
        "usuario@dominio.com\n",
        "    \n",
        "Por ejemplo: si se le pasa \"lmcastroco@gmail.com\", la función retornará: gmail.com"
      ]
    },
    {
      "cell_type": "code",
      "execution_count": 1,
      "metadata": {
        "id": "SnLVmAoUv_aC"
      },
      "outputs": [],
      "source": [
        "def extraer_dominio(email):\n",
        "  \"\"\"\n",
        "  extrae el dominio de un email\n",
        "  \"\"\"\n",
        "  dominio = email.split('@')[1]\n",
        "  return dominio"
      ]
    },
    {
      "cell_type": "code",
      "execution_count": 2,
      "metadata": {
        "id": "uQK42HdWv_aI",
        "colab": {
          "base_uri": "https://localhost:8080/",
          "height": 36
        },
        "outputId": "2cd730f0-fb5c-4363-af7e-04811ec0b583"
      },
      "outputs": [
        {
          "output_type": "execute_result",
          "data": {
            "text/plain": [
              "'gmail.com'"
            ],
            "application/vnd.google.colaboratory.intrinsic+json": {
              "type": "string"
            }
          },
          "metadata": {},
          "execution_count": 2
        }
      ],
      "source": [
        "extraer_dominio('juanita@gmail.com')  # Debería retornar 'gmail.com'"
      ]
    },
    {
      "cell_type": "code",
      "execution_count": 3,
      "metadata": {
        "id": "44R1evuAv_aU",
        "colab": {
          "base_uri": "https://localhost:8080/",
          "height": 36
        },
        "outputId": "06c63b5b-cc5a-4225-8375-9a83b96535cd"
      },
      "outputs": [
        {
          "output_type": "execute_result",
          "data": {
            "text/plain": [
              "'hotmail.com'"
            ],
            "application/vnd.google.colaboratory.intrinsic+json": {
              "type": "string"
            }
          },
          "metadata": {},
          "execution_count": 3
        }
      ],
      "source": [
        "extraer_dominio('juanita.perez@hotmail.com') # Debería retornar 'hotmail.com'"
      ]
    },
    {
      "cell_type": "markdown",
      "metadata": {
        "id": "W5GXHY7GwSxU"
      },
      "source": [
        "## **Ejercicio 9**"
      ]
    },
    {
      "cell_type": "markdown",
      "metadata": {
        "id": "TpfnyisEv_ag"
      },
      "source": [
        "Escribe una función llamada contar_desempleo que reciba una cadena y retorne el número de veces que aparece la palabra \"desempleo\" en el texto. Ten en cuenta que la palabra puede estar en mayúsculas, minúsculas o una mezcla de ellas, pero por ahora no te preocupes por casos especiales como cuando la palabra tiene algún signo de puntuación inmediatamente despúes de ésta."
      ]
    },
    {
      "cell_type": "code",
      "execution_count": 7,
      "metadata": {
        "id": "fWWwTWNl0WcE"
      },
      "outputs": [],
      "source": [
        "def contar_desempleo(cadena):\n",
        "  \"\"\"\n",
        "  Cuenta el número de veces que aparece la palabra \"desempleo\" en una cadena.\n",
        "  \"\"\"\n",
        "  cadena= cadena.lower()\n",
        "  cadena= cadena.capitalize()\n",
        "  cadena.count(\"desempleo\")\n",
        "  return cadena.count(\"desempleo\")"
      ]
    },
    {
      "cell_type": "code",
      "execution_count": 8,
      "metadata": {
        "id": "kOVujSn_v_bK",
        "colab": {
          "base_uri": "https://localhost:8080/"
        },
        "outputId": "ed99ef43-3a5f-4855-9c66-bf3b9ea6899c"
      },
      "outputs": [
        {
          "output_type": "execute_result",
          "data": {
            "text/plain": [
              "2"
            ]
          },
          "metadata": {},
          "execution_count": 8
        }
      ],
      "source": [
        "contar_desempleo(\"El desempleo es un problema. El DESEMPLEO afecta a muchas personas.\")"
      ]
    },
    {
      "cell_type": "code",
      "execution_count": 9,
      "metadata": {
        "id": "xIaZJfLK0P-f",
        "colab": {
          "base_uri": "https://localhost:8080/"
        },
        "outputId": "4eb197b1-2e35-40f8-c2cc-4b4622a39f3d"
      },
      "outputs": [
        {
          "output_type": "execute_result",
          "data": {
            "text/plain": [
              "1"
            ]
          },
          "metadata": {},
          "execution_count": 9
        }
      ],
      "source": [
        "contar_desempleo(\"El dEseMPLeo aumentó en enero.\")"
      ]
    },
    {
      "cell_type": "code",
      "execution_count": 10,
      "metadata": {
        "id": "2PaQ6jV70ShH",
        "colab": {
          "base_uri": "https://localhost:8080/"
        },
        "outputId": "7993eb18-24d7-4274-e4d0-876da7a5bcdd"
      },
      "outputs": [
        {
          "output_type": "execute_result",
          "data": {
            "text/plain": [
              "0"
            ]
          },
          "metadata": {},
          "execution_count": 10
        }
      ],
      "source": [
        "contar_desempleo(\"El gobierno tiene como meta reducir el número de personas desocupadas un 10%.\")"
      ]
    },
    {
      "cell_type": "markdown",
      "metadata": {
        "id": "dWBokSMZwgTc"
      },
      "source": [
        "## **Ejercicio 10**"
      ]
    },
    {
      "cell_type": "markdown",
      "metadata": {
        "id": "xE0y1M7gv_bl"
      },
      "source": [
        "Vas conduciendo un carro muy rápido y eres detenido por un agente de tránsito.\n",
        "\n",
        "Escribe una función \"multa\" que retorne uno de los 3 siguientes resultados:  \n",
        "\n",
        "- Si la velocidad es 60 Km/h o menos, el resultado es \"Sin multa\".\n",
        "- Si la velocidad está entre 60 y 80 Km/h (inclusive), el resultado es \"Multa pequeña\".\n",
        "- Si la velocidad es mayor a 80 Km/h, el resultado es \"Multa grande\".\n",
        "\n",
        "Además, considera que si esto ocurre el día de tu cumpleaños (codificado como parámetro booleano que recibe la función), tu velocidad podría ser 5 Km/ mayor en todos los casos."
      ]
    },
    {
      "cell_type": "code",
      "execution_count": 32,
      "metadata": {
        "id": "Hp7qfR0L2qJx"
      },
      "outputs": [],
      "source": [
        "def multa(velocidad, cumpleano):\n",
        "  \"\"\"\n",
        "  Calcula la multa a pagar en función de la velocidad,\n",
        "  con un ajuste si es el cumpleaños del conductor.\n",
        "  \"\"\"\n",
        "\n",
        "  # Si es el cumpleaños, se añaden 5 km/h a la velocidad para la evaluación.\n",
        "  if cumpleano== True:\n",
        "    velocidad += 5\n",
        "\n",
        "  if velocidad <= 60:\n",
        "    return \"Sin multa\"\n",
        "  elif 60 < velocidad <= 80:\n",
        "    return \"Multa pequeña\"\n",
        "  else:\n",
        "    return \"Multa grande\"\n",
        "\n",
        ""
      ]
    },
    {
      "cell_type": "code",
      "execution_count": 33,
      "metadata": {
        "id": "yLWqy7NWv_bv",
        "colab": {
          "base_uri": "https://localhost:8080/",
          "height": 36
        },
        "outputId": "9388a273-5bec-4312-a0a2-a8048bdcc841"
      },
      "outputs": [
        {
          "output_type": "execute_result",
          "data": {
            "text/plain": [
              "'Sin multa'"
            ],
            "application/vnd.google.colaboratory.intrinsic+json": {
              "type": "string"
            }
          },
          "metadata": {},
          "execution_count": 33
        }
      ],
      "source": [
        "multa(55, True)"
      ]
    },
    {
      "cell_type": "code",
      "execution_count": 27,
      "metadata": {
        "id": "Azjv8GE7v_b0",
        "colab": {
          "base_uri": "https://localhost:8080/",
          "height": 36
        },
        "outputId": "e6b75b4b-a4d1-40d1-b9f4-80e3c4ca68ca"
      },
      "outputs": [
        {
          "output_type": "execute_result",
          "data": {
            "text/plain": [
              "'Sin multa'"
            ],
            "application/vnd.google.colaboratory.intrinsic+json": {
              "type": "string"
            }
          },
          "metadata": {},
          "execution_count": 27
        }
      ],
      "source": [
        "multa(55, False)"
      ]
    }
  ],
  "metadata": {
    "colab": {
      "provenance": [],
      "toc_visible": true
    },
    "kernelspec": {
      "display_name": "Python 3",
      "name": "python3"
    },
    "language_info": {
      "name": "python"
    }
  },
  "nbformat": 4,
  "nbformat_minor": 0
}